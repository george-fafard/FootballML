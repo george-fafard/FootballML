{
 "cells": [
  {
   "cell_type": "code",
   "execution_count": null,
   "id": "74b73c6d",
   "metadata": {},
   "outputs": [],
   "source": [
    "# This is where we will import the ensemble classifier and set up the code to run it\n",
    "# so that he can simply run the notebook. This will be left as a jupyter notebook"
   ]
  }
 ],
 "metadata": {
  "kernelspec": {
   "display_name": "Python 3",
   "language": "python",
   "name": "python3"
  },
  "language_info": {
   "codemirror_mode": {
    "name": "ipython",
    "version": 3
   },
   "file_extension": ".py",
   "mimetype": "text/x-python",
   "name": "python",
   "nbconvert_exporter": "python",
   "pygments_lexer": "ipython3",
   "version": "3.9.4"
  }
 },
 "nbformat": 4,
 "nbformat_minor": 5
}
