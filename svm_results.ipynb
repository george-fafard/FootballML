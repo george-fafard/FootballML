{
 "cells": [
  {
   "cell_type": "code",
   "execution_count": 10,
   "metadata": {},
   "outputs": [],
   "source": [
    "# Insert top level directory into the system path so parent and sibling \n",
    "# modules can be imported \n",
    "import pathlib\n",
    "import sys\n",
    "import matplotlib.pyplot as plt\n",
    "from sklearn.metrics import classification_report, confusion_matrix\n",
    "from sklearn.model_selection import train_test_split\n",
    "from sklearn.svm import SVC\n",
    "from sklearn import preprocessing as p\n",
    "# Convert path to use proper directory markers based on \n",
    "# operating system\n",
    "PATH = str(pathlib.Path('../../'))\n",
    "\n",
    "# Insert path to system path\n",
    "sys.path.insert(0, PATH)"
   ]
  },
  {
   "cell_type": "code",
   "execution_count": 2,
   "metadata": {},
   "outputs": [
    {
     "name": "stdout",
     "output_type": "stream",
     "text": [
      "SVC accuracy:0.6270833333333333\n",
      "SVC confusion matrix\n",
      "     0    1\n",
      "0  159  259\n",
      "1   99  443\n"
     ]
    },
    {
     "data": {
      "image/png": "[encoded data removed]",
      "text/plain": [
       "<Figure size 432x288 with 1 Axes>"
      ]
     },
     "metadata": {
      "needs_background": "light"
     },
     "output_type": "display_data"
    },
    {
     "name": "stdout",
     "output_type": "stream",
     "text": [
      "SVC Metrics\n",
      "   F1 Score\n",
      "0  0.470414\n",
      "1  0.712219\n",
      "   Precision    Recall\n",
      "0   0.616279  0.380383\n",
      "1   0.631054  0.817343\n"
     ]
    },
    {
     "data": {
      "text/plain": [
       "SVC(C=10, gamma=0.001)"
      ]
     },
     "execution_count": 2,
     "metadata": {},
     "output_type": "execute_result"
    }
   ],
   "source": [
    "from FootballML.Classifiers.Individual.svm.svm_classifier import svm_tuned\n",
    "from FootballML.Classifiers.Individual.svm.svm_classifier import return_training_data\n",
    "from FootballML.Classifiers.Individual.svm.svm_classifier_param_tuner import param_tuner\n",
    "\n",
    "svm_tuned(display_output=True)"
   ]
  },
  {
   "cell_type": "markdown",
   "metadata": {},
   "source": [
    "# Initial Result Analysis\n",
    "First let's establish 0 and 1 as 0 for loss, 1 for win.\n",
    "Based on the results, we can see the model has a strong tendency to over predict false positives compared to false negatives. This is the main source of innacuracy. The model exhibits reasonable precision for both losses and wins, but displays a huge disparity in recall and F1 scores between losses and wins.\n",
    "\n",
    "Based on the dataset, I think it can be reasonably concluded that this is because of close games. Close games happen the majority of the time, and while it may be able to read in some key information to tip the scales in some games, a lot of games are not won by purely numbers alone. I think that the machine tends to over predict winning because of the nature of the data- a lot of teams statistically can perform well and still lose. \n",
    "\n",
    "I think it can also be reasonably interepreted that the machine is not just blindly guessing, because it still exhibits a strong number of true negatives."
   ]
  },
  {
   "cell_type": "markdown",
   "metadata": {},
   "source": [
    "# Selecting HyperParameters\n",
    "I used GridSearchCV with a cross-fold validation of 5 to index various values of C, gamma, and kernel types. I also experimented with different scalers and wrote all my output to a .txt file. I implemented a function to read in the best  scores and output exactly what model obtained it. After roughly 2000 data entries, these are the parameters I achieved."
   ]
  },
  {
   "cell_type": "code",
   "execution_count": 3,
   "metadata": {},
   "outputs": [
    {
     "name": "stdout",
     "output_type": "stream",
     "text": [
      "Average accuracy: 0.6181950270893563\n",
      "Highest accuracy: 0.7033738191632929\n",
      "Achieved with: USING THE: <class 'sklearn.preprocessing._data.RobustScaler'>AND {'C': 0.1, 'gamma': 0.1, 'kernel': 'sigmoid'}\n",
      "\n",
      "Total trials indexed: 2322.0\n"
     ]
    }
   ],
   "source": [
    "param_tuner()"
   ]
  },
  {
   "cell_type": "markdown",
   "metadata": {},
   "source": [
    "# HyperParameter Analysis"
   ]
  },
  {
   "cell_type": "code",
   "execution_count": 4,
   "metadata": {},
   "outputs": [
    {
     "name": "stdout",
     "output_type": "stream",
     "text": [
      "0.6625\n"
     ]
    }
   ],
   "source": [
    "# return our fit svc object\n",
    "svc_obj = svm_tuned()\n",
    "# get some data to play with\n",
    "X, Y = return_training_data()\n",
    "scaler = p.QuantileTransformer(n_quantiles=len(X))\n",
    "X_scaled = scaler.fit_transform(X, Y)\n",
    "datapoints = []\n",
    "scalers = [\"Quantile\", \"Robust\", \"Standard\", \"MinMax\", \"NormalPDF\"]\n",
    "datapoints.append(svc_obj.score(X_scaled, Y))\n",
    "print(datapoints[0])"
   ]
  },
  {
   "cell_type": "markdown",
   "metadata": {},
   "source": [
    "We can see that the model achieves a fairly reasonable accuracy predicting the entire 2018-2019 season, given that the data is scaled using the preferred scaler. If we were to use a worse scaler:"
   ]
  },
  {
   "cell_type": "code",
   "execution_count": 5,
   "metadata": {},
   "outputs": [
    {
     "name": "stdout",
     "output_type": "stream",
     "text": [
      "0.6208333333333333\n"
     ]
    }
   ],
   "source": [
    "scaler = p.RobustScaler()\n",
    "X_scaled = scaler.fit_transform(X, Y)\n",
    "datapoints.append(svc_obj.score(X_scaled, Y))\n",
    "print(datapoints[1])"
   ]
  },
  {
   "cell_type": "markdown",
   "metadata": {},
   "source": [
    "We can see that the model performs still fairly well but not as well. Now let's try varying the scaler all over the place."
   ]
  },
  {
   "cell_type": "code",
   "execution_count": 6,
   "metadata": {},
   "outputs": [],
   "source": [
    "scaler = p.StandardScaler()\n",
    "X_scaled = scaler.fit_transform(X, Y)\n",
    "datapoints.append(svc_obj.score(X_scaled, Y))\n",
    "scaler = p.MinMaxScaler()\n",
    "X_scaled = scaler.fit_transform(X, Y)\n",
    "datapoints.append(svc_obj.score(X_scaled, Y))\n",
    "scaler = p.QuantileTransformer(output_distribution='normal', n_quantiles=len(X)) # similar to the regular Quantile but follows the normal PDF \n",
    "X_scaled = scaler.fit_transform(X, Y)\n",
    "datapoints.append(svc_obj.score(X_scaled, Y))"
   ]
  },
  {
   "cell_type": "code",
   "execution_count": 7,
   "metadata": {},
   "outputs": [
    {
     "data": {
      "image/png": "[encoded data removed]",
      "text/plain": [
       "<Figure size 432x288 with 1 Axes>"
      ]
     },
     "metadata": {
      "needs_background": "light"
     },
     "output_type": "display_data"
    }
   ],
   "source": [
    "fig = plt.figure()\n",
    "ax = fig.add_axes([0,0,1,1])\n",
    "ax.bar(scalers,datapoints)\n",
    "ax.set_ylabel('Accuracy')\n",
    "ax.set_title('Accuracy for Different Scalers')\n",
    "plt.show()"
   ]
  },
  {
   "cell_type": "markdown",
   "metadata": {},
   "source": [
    "We can see that the data scaler did not have significant impact on the data, but that the QuantileTransformer performs the best. However, when we vary the C value, things start to get weird."
   ]
  },
  {
   "cell_type": "code",
   "execution_count": 8,
   "metadata": {},
   "outputs": [
    {
     "name": "stdout",
     "output_type": "stream",
     "text": [
      "              precision    recall  f1-score   support\n",
      "\n",
      "           0       0.57      0.40      0.47        20\n",
      "           1       0.65      0.79      0.71        28\n",
      "\n",
      "    accuracy                           0.62        48\n",
      "   macro avg       0.61      0.59      0.59        48\n",
      "weighted avg       0.62      0.62      0.61        48\n",
      "\n",
      "Fitting 5 folds for each of 100 candidates, totalling 500 fits\n"
     ]
    },
    {
     "name": "stderr",
     "output_type": "stream",
     "text": [
      "[Parallel(n_jobs=-1)]: Using backend LokyBackend with 12 concurrent workers.\n",
      "[Parallel(n_jobs=-1)]: Done   8 tasks      | elapsed:    1.4s\n",
      "[Parallel(n_jobs=-1)]: Done 188 tasks      | elapsed:    1.6s\n",
      "[Parallel(n_jobs=-1)]: Done 500 out of 500 | elapsed:    2.4s finished\n",
      "[Parallel(n_jobs=-1)]: Using backend LokyBackend with 12 concurrent workers.\n",
      "[Parallel(n_jobs=-1)]: Done   8 tasks      | elapsed:    0.0s\n"
     ]
    },
    {
     "name": "stdout",
     "output_type": "stream",
     "text": [
      "{'C': 10, 'gamma': 0.1, 'kernel': 'rbf'}\n",
      "SVC(C=10, gamma=0.1)\n",
      "              precision    recall  f1-score   support\n",
      "\n",
      "           0       0.58      0.55      0.56        20\n",
      "           1       0.69      0.71      0.70        28\n",
      "\n",
      "    accuracy                           0.65        48\n",
      "   macro avg       0.63      0.63      0.63        48\n",
      "weighted avg       0.64      0.65      0.64        48\n",
      "\n",
      "              precision    recall  f1-score   support\n",
      "\n",
      "           0       0.53      0.36      0.43        25\n",
      "           1       0.48      0.65      0.56        23\n",
      "\n",
      "    accuracy                           0.50        48\n",
      "   macro avg       0.51      0.51      0.49        48\n",
      "weighted avg       0.51      0.50      0.49        48\n",
      "\n",
      "Fitting 5 folds for each of 100 candidates, totalling 500 fits\n"
     ]
    },
    {
     "name": "stderr",
     "output_type": "stream",
     "text": [
      "[Parallel(n_jobs=-1)]: Done 319 tasks      | elapsed:    0.5s\n",
      "[Parallel(n_jobs=-1)]: Done 500 out of 500 | elapsed:   21.8s finished\n",
      "C:\\Users\\lenny\\anaconda3\\lib\\site-packages\\sklearn\\preprocessing\\_data.py:2367: UserWarning: n_quantiles (1000) is greater than the total number of samples (240). n_quantiles is set to n_samples.\n",
      "  warnings.warn(\"n_quantiles (%s) is greater than the total number \"\n",
      "[Parallel(n_jobs=-1)]: Using backend LokyBackend with 12 concurrent workers.\n",
      "[Parallel(n_jobs=-1)]: Done   8 tasks      | elapsed:    0.0s\n"
     ]
    },
    {
     "name": "stdout",
     "output_type": "stream",
     "text": [
      "{'C': 10, 'gamma': 0.1, 'kernel': 'rbf'}\n",
      "SVC(C=10, gamma=0.1)\n",
      "              precision    recall  f1-score   support\n",
      "\n",
      "           0       0.50      0.08      0.14        25\n",
      "           1       0.48      0.91      0.63        23\n",
      "\n",
      "    accuracy                           0.48        48\n",
      "   macro avg       0.49      0.50      0.38        48\n",
      "weighted avg       0.49      0.48      0.37        48\n",
      "\n",
      "              precision    recall  f1-score   support\n",
      "\n",
      "           0       0.67      0.24      0.35        25\n",
      "           1       0.51      0.87      0.65        23\n",
      "\n",
      "    accuracy                           0.54        48\n",
      "   macro avg       0.59      0.55      0.50        48\n",
      "weighted avg       0.59      0.54      0.49        48\n",
      "\n",
      "Fitting 5 folds for each of 100 candidates, totalling 500 fits\n"
     ]
    },
    {
     "name": "stderr",
     "output_type": "stream",
     "text": [
      "[Parallel(n_jobs=-1)]: Done 305 tasks      | elapsed:    0.7s\n",
      "[Parallel(n_jobs=-1)]: Done 477 out of 500 | elapsed:    4.5s remaining:    0.1s\n",
      "[Parallel(n_jobs=-1)]: Done 500 out of 500 | elapsed:   14.9s finished\n",
      "C:\\Users\\lenny\\anaconda3\\lib\\site-packages\\sklearn\\preprocessing\\_data.py:2995: RuntimeWarning: divide by zero encountered in log\n",
      "  loglike = -n_samples / 2 * np.log(x_trans.var())\n",
      "[Parallel(n_jobs=-1)]: Using backend LokyBackend with 12 concurrent workers.\n",
      "[Parallel(n_jobs=-1)]: Done   8 tasks      | elapsed:    0.0s\n"
     ]
    },
    {
     "name": "stdout",
     "output_type": "stream",
     "text": [
      "{'C': 10, 'gamma': 1, 'kernel': 'sigmoid'}\n",
      "SVC(C=10, gamma=1, kernel='sigmoid')\n",
      "              precision    recall  f1-score   support\n",
      "\n",
      "           0       0.62      0.60      0.61        25\n",
      "           1       0.58      0.61      0.60        23\n",
      "\n",
      "    accuracy                           0.60        48\n",
      "   macro avg       0.60      0.60      0.60        48\n",
      "weighted avg       0.61      0.60      0.60        48\n",
      "\n",
      "              precision    recall  f1-score   support\n",
      "\n",
      "           0       0.57      0.40      0.47        20\n",
      "           1       0.65      0.79      0.71        28\n",
      "\n",
      "    accuracy                           0.62        48\n",
      "   macro avg       0.61      0.59      0.59        48\n",
      "weighted avg       0.62      0.62      0.61        48\n",
      "\n",
      "Fitting 5 folds for each of 100 candidates, totalling 500 fits\n"
     ]
    },
    {
     "name": "stderr",
     "output_type": "stream",
     "text": [
      "[Parallel(n_jobs=-1)]: Done 312 tasks      | elapsed:    0.2s\n",
      "[Parallel(n_jobs=-1)]: Done 500 out of 500 | elapsed:    0.7s finished\n",
      "[Parallel(n_jobs=-1)]: Using backend LokyBackend with 12 concurrent workers.\n",
      "[Parallel(n_jobs=-1)]: Done   8 tasks      | elapsed:    0.0s\n"
     ]
    },
    {
     "name": "stdout",
     "output_type": "stream",
     "text": [
      "{'C': 10, 'gamma': 0.001, 'kernel': 'sigmoid'}\n",
      "SVC(C=10, gamma=0.001, kernel='sigmoid')\n",
      "              precision    recall  f1-score   support\n",
      "\n",
      "           0       0.53      0.40      0.46        20\n",
      "           1       0.64      0.75      0.69        28\n",
      "\n",
      "    accuracy                           0.60        48\n",
      "   macro avg       0.58      0.57      0.57        48\n",
      "weighted avg       0.59      0.60      0.59        48\n",
      "\n",
      "              precision    recall  f1-score   support\n",
      "\n",
      "           0       0.43      0.48      0.45        21\n",
      "           1       0.56      0.52      0.54        27\n",
      "\n",
      "    accuracy                           0.50        48\n",
      "   macro avg       0.50      0.50      0.50        48\n",
      "weighted avg       0.51      0.50      0.50        48\n",
      "\n",
      "Fitting 5 folds for each of 100 candidates, totalling 500 fits\n"
     ]
    },
    {
     "name": "stderr",
     "output_type": "stream",
     "text": [
      "[Parallel(n_jobs=-1)]: Done 319 tasks      | elapsed:    0.3s\n"
     ]
    },
    {
     "name": "stdout",
     "output_type": "stream",
     "text": [
      "{'C': 1, 'gamma': 0.01, 'kernel': 'rbf'}\n",
      "SVC(C=1, gamma=0.01)\n",
      "              precision    recall  f1-score   support\n",
      "\n",
      "           0       0.43      0.48      0.45        21\n",
      "           1       0.56      0.52      0.54        27\n",
      "\n",
      "    accuracy                           0.50        48\n",
      "   macro avg       0.50      0.50      0.50        48\n",
      "weighted avg       0.51      0.50      0.50        48\n",
      "\n"
     ]
    },
    {
     "name": "stderr",
     "output_type": "stream",
     "text": [
      "[Parallel(n_jobs=-1)]: Done 500 out of 500 | elapsed:    4.0s finished\n"
     ]
    }
   ],
   "source": [
    "param_tuner(mode='write', j=1)"
   ]
  },
  {
   "cell_type": "markdown",
   "metadata": {},
   "source": [
    "Scrolling through some of these results, it should be noted that the classification report is only given on the best model selected for every run. We can see that the C value, Gamma value, and kernel all vary and that the precision and recall all have very odd and poor trends for many values of C and gamma."
   ]
  },
  {
   "cell_type": "markdown",
   "metadata": {},
   "source": [
    "# More Detailed C value Analysis"
   ]
  },
  {
   "cell_type": "code",
   "execution_count": 22,
   "metadata": {},
   "outputs": [],
   "source": [
    "C = [0.1, 1, 10, 100, 1000]\n",
    "datapoints = []\n",
    "scaler = p.QuantileTransformer(n_quantiles = len(X))\n",
    "X_scaled = scaler.fit_transform(X, Y)\n",
    "for c in C:\n",
    "    svc_obj = svm_tuned(svm_c=c)\n",
    "    datapoints.append(svc_obj.score(X_scaled, Y))"
   ]
  },
  {
   "cell_type": "code",
   "execution_count": 36,
   "metadata": {},
   "outputs": [
    {
     "data": {
      "image/png": "[encoded data removed]",
      "text/plain": [
       "<Figure size 432x288 with 1 Axes>"
      ]
     },
     "metadata": {
      "needs_background": "light"
     },
     "output_type": "display_data"
    }
   ],
   "source": [
    "plt.title(\"Accuracy and C Value\")\n",
    "plt.plot(C, datapoints)\n",
    "plt.ylabel(\"Accuracy\")\n",
    "plt.xlabel(\"C values\")\n",
    "plt.show()"
   ]
  },
  {
   "cell_type": "markdown",
   "metadata": {},
   "source": [
    "This is about in the real of what we expect. The C value for a small C results in fairly poor accuracy. As the C value increases, we see too large of a value starts to overfit and overgeneralize the model."
   ]
  }
 ],
 "metadata": {
  "kernelspec": {
   "display_name": "Python 3",
   "language": "python",
   "name": "python3"
  },
  "language_info": {
   "codemirror_mode": {
    "name": "ipython",
    "version": 3
   },
   "file_extension": ".py",
   "mimetype": "text/x-python",
   "name": "python",
   "nbconvert_exporter": "python",
   "pygments_lexer": "ipython3",
   "version": "3.8.5"
  }
 },
 "nbformat": 4,
 "nbformat_minor": 5
}
