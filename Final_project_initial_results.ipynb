{
 "cells": [
  {
   "cell_type": "code",
   "execution_count": 1,
   "metadata": {},
   "outputs": [
    {
     "name": "stdout",
     "output_type": "stream",
     "text": [
      "Requirement already satisfied: sportsipy in c:\\users\\lenny\\anaconda3\\lib\\site-packages (0.6.0)\n",
      "Requirement already satisfied: requests>=2.18.4 in c:\\users\\lenny\\anaconda3\\lib\\site-packages (from sportsipy) (2.24.0)\n",
      "Requirement already satisfied: pandas>=0.24.1 in c:\\users\\lenny\\anaconda3\\lib\\site-packages (from sportsipy) (1.1.3)\n",
      "Requirement already satisfied: pyquery>=1.4.0 in c:\\users\\lenny\\anaconda3\\lib\\site-packages (from sportsipy) (1.4.3)\n",
      "Requirement already satisfied: urllib3!=1.25.0,!=1.25.1,<1.26,>=1.21.1 in c:\\users\\lenny\\anaconda3\\lib\\site-packages (from requests>=2.18.4->sportsipy) (1.25.11)\n",
      "Requirement already satisfied: chardet<4,>=3.0.2 in c:\\users\\lenny\\anaconda3\\lib\\site-packages (from requests>=2.18.4->sportsipy) (3.0.4)\n",
      "Requirement already satisfied: idna<3,>=2.5 in c:\\users\\lenny\\anaconda3\\lib\\site-packages (from requests>=2.18.4->sportsipy) (2.10)\n",
      "Requirement already satisfied: certifi>=2017.4.17 in c:\\users\\lenny\\anaconda3\\lib\\site-packages (from requests>=2.18.4->sportsipy) (2020.6.20)\n",
      "Requirement already satisfied: pytz>=2017.2 in c:\\users\\lenny\\anaconda3\\lib\\site-packages (from pandas>=0.24.1->sportsipy) (2020.1)\n",
      "Requirement already satisfied: numpy>=1.15.4 in c:\\users\\lenny\\anaconda3\\lib\\site-packages (from pandas>=0.24.1->sportsipy) (1.19.2)\n",
      "Requirement already satisfied: python-dateutil>=2.7.3 in c:\\users\\lenny\\anaconda3\\lib\\site-packages (from pandas>=0.24.1->sportsipy) (2.8.1)\n",
      "Requirement already satisfied: lxml>=2.1 in c:\\users\\lenny\\anaconda3\\lib\\site-packages (from pyquery>=1.4.0->sportsipy) (4.6.1)\n",
      "Requirement already satisfied: cssselect>0.7.9 in c:\\users\\lenny\\anaconda3\\lib\\site-packages (from pyquery>=1.4.0->sportsipy) (1.1.0)\n",
      "Requirement already satisfied: six>=1.5 in c:\\users\\lenny\\anaconda3\\lib\\site-packages (from python-dateutil>=2.7.3->pandas>=0.24.1->sportsipy) (1.15.0)\n"
     ]
    }
   ],
   "source": [
    "import sys\n",
    "!{sys.executable} -m pip install sportsipy"
   ]
  },
  {
   "cell_type": "code",
   "execution_count": 28,
   "metadata": {},
   "outputs": [],
   "source": [
    "from sportsipy.nfl.boxscore import Boxscores, Boxscore\n",
    "Boxscores(1,2020).games\n",
    "import pandas as pd\n",
    "import numpy as np\n",
    "import matplotlib.pyplot as plt\n",
    "\n",
    "\n",
    "from sklearn.linear_model import LinearRegression\n",
    "from sklearn.metrics import mean_squared_error\n",
    "\n",
    "from sklearn.model_selection import train_test_split\n",
    "# sklearn utilities\n",
    "from sklearn import datasets\n",
    "from sklearn.metrics import confusion_matrix, classification_report\n",
    "from sklearn import preprocessing\n",
    "\n",
    "# sklearn models\n",
    "from sklearn.linear_model import LogisticRegression\n",
    "from sklearn.tree import DecisionTreeClassifier\n",
    "from sklearn.svm import SVC\n",
    "from sklearn.ensemble import RandomForestClassifier\n",
    "from sklearn.decomposition import PCA"
   ]
  },
  {
   "cell_type": "code",
   "execution_count": 3,
   "metadata": {},
   "outputs": [],
   "source": [
    "def game_data(game_df,game_stats):\n",
    "    try:\n",
    "        away_team_df = game_df[['away_name', 'away_abbr', 'away_score']].rename(columns = {'away_name': 'team_name', 'away_abbr': 'team_abbr', 'away_score': 'score'})\n",
    "        home_team_df = game_df[['home_name','home_abbr', 'home_score']].rename(columns = {'home_name': 'team_name', 'home_abbr': 'team_abbr', 'home_score': 'score'})\n",
    "        try:\n",
    "            if game_df.loc[0,'away_score'] > game_df.loc[0,'home_score']:\n",
    "                away_team_df = pd.merge(away_team_df, pd.DataFrame({'game_won' : [1], 'game_lost' : [0]}),left_index = True, right_index = True)\n",
    "                home_team_df = pd.merge(home_team_df, pd.DataFrame({'game_won' : [0], 'game_lost' : [1]}),left_index = True, right_index = True)\n",
    "            elif game_df.loc[0,'away_score'] < game_df.loc[0,'home_score']:\n",
    "                away_team_df = pd.merge(away_team_df, pd.DataFrame({'game_won' : [0], 'game_lost' : [1]}),left_index = True, right_index = True)\n",
    "                home_team_df = pd.merge(home_team_df, pd.DataFrame({'game_won' : [1], 'game_lost' : [0]}),left_index = True, right_index = True)\n",
    "            else: \n",
    "                away_team_df = pd.merge(away_team_df, pd.DataFrame({'game_won' : [0], 'game_lost' : [0]}),left_index = True, right_index = True)\n",
    "                home_team_df = pd.merge(home_team_df, pd.DataFrame({'game_won' : [0], 'game_lost' : [0]}),left_index = True, right_index = True)\n",
    "        except TypeError:\n",
    "                away_team_df = pd.merge(away_team_df, pd.DataFrame({'game_won' : [np.nan], 'game_lost' : [np.nan]}),left_index = True, right_index = True)\n",
    "                home_team_df = pd.merge(home_team_df, pd.DataFrame({'game_won' : [np.nan], 'game_lost' : [np.nan]}),left_index = True, right_index = True)        \n",
    "\n",
    "        away_stats_df = game_stats.dataframe[['away_first_downs', 'away_fourth_down_attempts',\n",
    "               'away_fourth_down_conversions', 'away_fumbles', 'away_fumbles_lost',\n",
    "               'away_interceptions', 'away_net_pass_yards', 'away_pass_attempts',\n",
    "               'away_pass_completions', 'away_pass_touchdowns', 'away_pass_yards',\n",
    "               'away_penalties', 'away_points', 'away_rush_attempts',\n",
    "               'away_rush_touchdowns', 'away_rush_yards', 'away_third_down_attempts',\n",
    "               'away_third_down_conversions', 'away_time_of_possession',\n",
    "               'away_times_sacked', 'away_total_yards', 'away_turnovers',\n",
    "               'away_yards_from_penalties', 'away_yards_lost_from_sacks']].reset_index().drop(columns ='index').rename(columns = {\n",
    "               'away_first_downs': 'first_downs', 'away_fourth_down_attempts':'fourth_down_attempts',\n",
    "               'away_fourth_down_conversions':'fourth_down_conversions' , 'away_fumbles': 'fumbles', 'away_fumbles_lost': 'fumbles_lost',\n",
    "               'away_interceptions': 'interceptions', 'away_net_pass_yards':'net_pass_yards' , 'away_pass_attempts': 'pass_attempts',\n",
    "               'away_pass_completions':'pass_completions' , 'away_pass_touchdowns': 'pass_touchdowns', 'away_pass_yards': 'pass_yards',\n",
    "               'away_penalties': 'penalties', 'away_points': 'points', 'away_rush_attempts': 'rush_attempts',\n",
    "               'away_rush_touchdowns': 'rush_touchdowns', 'away_rush_yards': 'rush_yards', 'away_third_down_attempts': 'third_down_attempts',\n",
    "               'away_third_down_conversions': 'third_down_conversions', 'away_time_of_possession': 'time_of_possession',\n",
    "               'away_times_sacked': 'times_sacked', 'away_total_yards': 'total_yards', 'away_turnovers': 'turnovers',\n",
    "               'away_yards_from_penalties':'yards_from_penalties', 'away_yards_lost_from_sacks': 'yards_lost_from_sacks'})\n",
    "\n",
    "        home_stats_df = game_stats.dataframe[['home_first_downs', 'home_fourth_down_attempts',\n",
    "               'home_fourth_down_conversions', 'home_fumbles', 'home_fumbles_lost',\n",
    "               'home_interceptions', 'home_net_pass_yards', 'home_pass_attempts',\n",
    "               'home_pass_completions', 'home_pass_touchdowns', 'home_pass_yards',\n",
    "               'home_penalties', 'home_points', 'home_rush_attempts',\n",
    "               'home_rush_touchdowns', 'home_rush_yards', 'home_third_down_attempts',\n",
    "               'home_third_down_conversions', 'home_time_of_possession',\n",
    "               'home_times_sacked', 'home_total_yards', 'home_turnovers',\n",
    "               'home_yards_from_penalties', 'home_yards_lost_from_sacks']].reset_index().drop(columns = 'index').rename(columns = {\n",
    "               'home_first_downs': 'first_downs', 'home_fourth_down_attempts':'fourth_down_attempts',\n",
    "               'home_fourth_down_conversions':'fourth_down_conversions' , 'home_fumbles': 'fumbles', 'home_fumbles_lost': 'fumbles_lost',\n",
    "               'home_interceptions': 'interceptions', 'home_net_pass_yards':'net_pass_yards' , 'home_pass_attempts': 'pass_attempts',\n",
    "               'home_pass_completions':'pass_completions' , 'home_pass_touchdowns': 'pass_touchdowns', 'home_pass_yards': 'pass_yards',\n",
    "               'home_penalties': 'penalties', 'home_points': 'points', 'home_rush_attempts': 'rush_attempts',\n",
    "               'home_rush_touchdowns': 'rush_touchdowns', 'home_rush_yards': 'rush_yards', 'home_third_down_attempts': 'third_down_attempts',\n",
    "               'home_third_down_conversions': 'third_down_conversions', 'home_time_of_possession': 'time_of_possession',\n",
    "               'home_times_sacked': 'times_sacked', 'home_total_yards': 'total_yards', 'home_turnovers': 'turnovers',\n",
    "               'home_yards_from_penalties':'yards_from_penalties', 'home_yards_lost_from_sacks': 'yards_lost_from_sacks'})\n",
    "\n",
    "        away_team_df = pd.merge(away_team_df, away_stats_df,left_index = True, right_index = True)\n",
    "        home_team_df = pd.merge(home_team_df, home_stats_df,left_index = True, right_index = True)\n",
    "        try:\n",
    "            away_team_df['time_of_possession'] = (int(away_team_df['time_of_possession'].loc[0][0:2]) * 60) + int(away_team_df['time_of_possession'].loc[0][3:5])\n",
    "            home_team_df['time_of_possession'] = (int(home_team_df['time_of_possession'].loc[0][0:2]) * 60) + int(home_team_df['time_of_possession'].loc[0][3:5])\n",
    "        except TypeError:\n",
    "            away_team_df['time_of_possession'] = np.nan\n",
    "            home_team_df['time_of_possession'] = np.nan\n",
    "    except TypeError:\n",
    "        away_team_df = pd.DataFrame()\n",
    "        home_team_df = pd.DataFrame()\n",
    "    return away_team_df, home_team_df"
   ]
  },
  {
   "cell_type": "code",
   "execution_count": 4,
   "metadata": {},
   "outputs": [],
   "source": [
    "def game_data_up_to_week(weeks,year):\n",
    "    weeks_games_df = pd.DataFrame()\n",
    "    for w in range(len(weeks)):\n",
    "        date_string = str(weeks[w]) + '-' + str(year)\n",
    "        week_scores = Boxscores(weeks[w],year)\n",
    "        week_games_df = pd.DataFrame()\n",
    "        for g in range(len(week_scores.games[date_string])):\n",
    "            game_str = week_scores.games[date_string][g]['boxscore']\n",
    "            game_stats = Boxscore(game_str)\n",
    "            game_df = pd.DataFrame(week_scores.games[date_string][g], index = [0])\n",
    "            away_team_df, home_team_df = game_data(game_df,game_stats)\n",
    "            away_team_df['week'] = weeks[w]\n",
    "            home_team_df['week'] = weeks[w]\n",
    "            week_games_df = pd.concat([week_games_df,away_team_df])\n",
    "            week_games_df = pd.concat([week_games_df,home_team_df])\n",
    "        weeks_games_df = pd.concat([weeks_games_df,week_games_df])\n",
    "    return weeks_games_df"
   ]
  },
  {
   "cell_type": "code",
   "execution_count": 6,
   "metadata": {},
   "outputs": [],
   "source": [
    "saved_df = game_data_up_to_week(range(1,16),2018)"
   ]
  },
  {
   "cell_type": "code",
   "execution_count": 7,
   "metadata": {},
   "outputs": [],
   "source": [
    "y=saved_df[\"game_won\"]\n",
    "x=saved_df[list(saved_df.columns)[5:len(saved_df)]]"
   ]
  },
  {
   "cell_type": "code",
   "execution_count": 23,
   "metadata": {},
   "outputs": [
    {
     "name": "stderr",
     "output_type": "stream",
     "text": [
      "C:\\Users\\lenny\\anaconda3\\lib\\site-packages\\sklearn\\linear_model\\_logistic.py:762: ConvergenceWarning: lbfgs failed to converge (status=1):\n",
      "STOP: TOTAL NO. of ITERATIONS REACHED LIMIT.\n",
      "\n",
      "Increase the number of iterations (max_iter) or scale the data as shown in:\n",
      "    https://scikit-learn.org/stable/modules/preprocessing.html\n",
      "Please also refer to the documentation for alternative solver options:\n",
      "    https://scikit-learn.org/stable/modules/linear_model.html#logistic-regression\n",
      "  n_iter_i = _check_optimize_result(\n"
     ]
    },
    {
     "data": {
      "text/plain": [
       "LogisticRegression()"
      ]
     },
     "execution_count": 23,
     "metadata": {},
     "output_type": "execute_result"
    }
   ],
   "source": [
    "x,xtest,y,ytest= train_test_split(x,y)\n",
    "\n",
    "clf = LogisticRegression()\n",
    "clf.fit(x, y)"
   ]
  },
  {
   "cell_type": "code",
   "execution_count": 24,
   "metadata": {},
   "outputs": [
    {
     "name": "stdout",
     "output_type": "stream",
     "text": [
      "0    1\n",
      "0    1\n",
      "0    0\n",
      "0    1\n",
      "0    1\n",
      "0    1\n",
      "0    1\n",
      "0    1\n",
      "0    1\n",
      "0    1\n",
      "0    1\n",
      "0    0\n",
      "0    0\n",
      "0    0\n",
      "0    1\n",
      "0    0\n",
      "0    1\n",
      "0    0\n",
      "0    0\n",
      "0    0\n",
      "0    0\n",
      "0    0\n",
      "0    0\n",
      "0    1\n",
      "0    0\n",
      "0    0\n",
      "0    1\n",
      "0    1\n",
      "0    0\n",
      "0    1\n",
      "0    0\n",
      "0    0\n",
      "0    0\n",
      "0    0\n",
      "0    1\n",
      "0    1\n",
      "Name: game_won, dtype: int64\n"
     ]
    },
    {
     "data": {
      "text/plain": [
       "array([1, 1, 0, 1, 1, 1, 0, 1, 1, 1, 0, 0, 0, 0, 1, 1, 1, 1, 0, 0, 0, 1,\n",
       "       0, 1, 0, 0, 1, 1, 0, 0, 0, 1, 1, 1, 0, 1], dtype=int64)"
      ]
     },
     "execution_count": 24,
     "metadata": {},
     "output_type": "execute_result"
    }
   ],
   "source": [
    "print(ytest)\n",
    "clf.predict(xtest)"
   ]
  },
  {
   "cell_type": "code",
   "execution_count": 25,
   "metadata": {},
   "outputs": [
    {
     "data": {
      "text/plain": [
       "0.7222222222222222"
      ]
     },
     "execution_count": 25,
     "metadata": {},
     "output_type": "execute_result"
    }
   ],
   "source": [
    "clf.score(xtest,ytest)"
   ]
  },
  {
   "cell_type": "code",
   "execution_count": 38,
   "metadata": {},
   "outputs": [
    {
     "name": "stdout",
     "output_type": "stream",
     "text": [
      "   loss  win\n",
      "0    12    6\n",
      "1     4   14\n"
     ]
    }
   ],
   "source": [
    "# write your code here\n",
    "predicted = clf.predict(xtest)\n",
    "cm = confusion_matrix(ytest, predicted)\n",
    "cm_df = pd.DataFrame(cm, columns = [\"loss\", 'win'])\n",
    "print(cm_df)"
   ]
  },
  {
   "cell_type": "code",
   "execution_count": 41,
   "metadata": {},
   "outputs": [
    {
     "ename": "SyntaxError",
     "evalue": "invalid syntax (<ipython-input-41-74a511ae96d4>, line 56)",
     "output_type": "error",
     "traceback": [
      "\u001b[1;36m  File \u001b[1;32m\"<ipython-input-41-74a511ae96d4>\"\u001b[1;36m, line \u001b[1;32m56\u001b[0m\n\u001b[1;33m    print(str(cm_df) + )\u001b[0m\n\u001b[1;37m                       ^\u001b[0m\n\u001b[1;31mSyntaxError\u001b[0m\u001b[1;31m:\u001b[0m invalid syntax\n"
     ]
    }
   ],
   "source": [
    "cm = confusion_matrix(ytest, predicted)\n",
    "cm_df = pd.DataFrame(cm, columns = [\"loss\", 'win'])\n",
    "def custom_precision_recall(conf_matrix):\n",
    "    # conf matrix composition:\n",
    "    # by definition a confusion matrix C\n",
    "    # is such that C i,j is equal to the number of observations known to be in group i and predicted to be in group j.\n",
    "    # get our true positives\n",
    "    rows, cols = np.shape(conf_matrix)\n",
    "    # we will need to track these\n",
    "    tp_array = []\n",
    "    fp_array = []\n",
    "    fn_array = []\n",
    "    p_array = []\n",
    "    r_array = []\n",
    "    # so the i,j value where i = j should be our true positives\n",
    "    # our false negative should be every other case in a row,\n",
    "    # our false positive should be every other case in a column.\n",
    "    for i in range(0, rows):\n",
    "        row_sum = 0\n",
    "        col_sum = 0\n",
    "        for j in range(0, cols):\n",
    "            if i == j:\n",
    "                tp_array.append(conf_matrix[i, j])\n",
    "            else:\n",
    "                row_sum += conf_matrix[j,i]\n",
    "                col_sum += conf_matrix[i,j]\n",
    "        fp_array.append(row_sum)\n",
    "        fn_array.append(col_sum)\n",
    "    \n",
    "    for k in range(0, cols):\n",
    "        # precision = tp / (tp + fp)\n",
    "        p_array.append(tp_array[k]/(tp_array[k] + fp_array[k]))\n",
    "        # recall = tp / (tp + fn)\n",
    "        r_array.append(tp_array[k]/(tp_array[k] + fn_array[k]))\n",
    "    \n",
    "    metrix = pd.DataFrame(p_array, columns=['Precision'])\n",
    "    metrix['Recall'] = r_array\n",
    "    return metrix\n",
    "def f1_score(conf_matrix):\n",
    "    # get some metrics\n",
    "    metrix = custom_precision_recall(conf_matrix)\n",
    "    p_array = []\n",
    "    r_array = []\n",
    "    f1_array = []\n",
    "    # calculate the F1 score\n",
    "    for p in metrix['Precision']:\n",
    "        p_array.append(p)\n",
    "    for r in metrix['Recall']:\n",
    "        r_array.append(r)\n",
    "    \n",
    "    # F1 score = 2 * PR / (P + R)\n",
    "    for i in range(0, len(p_array)):\n",
    "        f1_array.append(2 * p_array[i] * r_array[i] / (p_array[i] + r_array[i]))\n",
    "    return pd.DataFrame(f1_array, columns=[\"F1 Score\"])\n",
    "\n",
    "print(str(cm_df) + \"\\n\")\n",
    "print(str(custom_precision_recall(cm)) + \"\\n\")\n",
    "print(str(f1_score(cm)) + \"\\n\")"
   ]
  },
  {
   "cell_type": "code",
   "execution_count": null,
   "metadata": {},
   "outputs": [],
   "source": []
  },
  {
   "cell_type": "code",
   "execution_count": null,
   "metadata": {},
   "outputs": [],
   "source": []
  },
  {
   "cell_type": "code",
   "execution_count": null,
   "metadata": {},
   "outputs": [],
   "source": []
  },
  {
   "cell_type": "code",
   "execution_count": null,
   "metadata": {},
   "outputs": [],
   "source": []
  }
 ],
 "metadata": {
  "kernelspec": {
   "display_name": "Python 3",
   "language": "python",
   "name": "python3"
  },
  "language_info": {
   "codemirror_mode": {
    "name": "ipython",
    "version": 3
   },
   "file_extension": ".py",
   "mimetype": "text/x-python",
   "name": "python",
   "nbconvert_exporter": "python",
   "pygments_lexer": "ipython3",
   "version": "3.8.5"
  }
 },
 "nbformat": 4,
 "nbformat_minor": 4
}
