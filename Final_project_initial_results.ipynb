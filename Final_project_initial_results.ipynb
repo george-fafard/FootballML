{
 "cells": [
  {
   "cell_type": "code",
   "execution_count": 2,
   "metadata": {},
   "outputs": [
    {
     "name": "stdout",
     "output_type": "stream",
     "text": [
      "Defaulting to user installation because normal site-packages is not writeable\n",
      "Requirement already satisfied: sportsipy in /home/aleigator/.local/lib/python3.9/site-packages (0.6.0)\n",
      "Requirement already satisfied: pandas>=0.24.1 in /home/aleigator/.local/lib/python3.9/site-packages (from sportsipy) (1.2.1)\n",
      "Requirement already satisfied: requests>=2.18.4 in /usr/lib/python3.9/site-packages (from sportsipy) (2.25.1)\n",
      "Requirement already satisfied: pyquery>=1.4.0 in /home/aleigator/.local/lib/python3.9/site-packages (from sportsipy) (1.4.3)\n",
      "Requirement already satisfied: python-dateutil>=2.7.3 in /usr/lib/python3.9/site-packages (from pandas>=0.24.1->sportsipy) (2.8.1)\n",
      "Requirement already satisfied: pytz>=2017.3 in /home/aleigator/.local/lib/python3.9/site-packages (from pandas>=0.24.1->sportsipy) (2021.1)\n",
      "Requirement already satisfied: numpy>=1.16.5 in /home/aleigator/.local/lib/python3.9/site-packages (from pandas>=0.24.1->sportsipy) (1.20.0)\n",
      "Requirement already satisfied: cssselect>0.7.9 in /home/aleigator/.local/lib/python3.9/site-packages (from pyquery>=1.4.0->sportsipy) (1.1.0)\n",
      "Requirement already satisfied: lxml>=2.1 in /home/aleigator/.local/lib/python3.9/site-packages (from pyquery>=1.4.0->sportsipy) (4.6.2)\n",
      "Requirement already satisfied: six>=1.5 in /usr/lib/python3.9/site-packages (from python-dateutil>=2.7.3->pandas>=0.24.1->sportsipy) (1.15.0)\n",
      "Requirement already satisfied: chardet>=3.0.2 in /usr/lib/python3.9/site-packages (from requests>=2.18.4->sportsipy) (3.0.4)\n",
      "Requirement already satisfied: idna>=2.5 in /usr/lib/python3.9/site-packages (from requests>=2.18.4->sportsipy) (2.10)\n",
      "Requirement already satisfied: urllib3>=1.21.1 in /usr/lib/python3.9/site-packages (from requests>=2.18.4->sportsipy) (1.26.3)\n"
     ]
    }
   ],
   "source": [
    "import sys\n",
    "!{sys.executable} -m pip install sportsipy"
   ]
  },
  {
   "cell_type": "code",
   "execution_count": 3,
   "metadata": {},
   "outputs": [],
   "source": [
    "from sportsipy.nfl.boxscore import Boxscores, Boxscore\n",
    "import pandas as pd\n",
    "import numpy as np\n",
    "\n",
    "from sklearn.linear_model import LinearRegression\n",
    "from sklearn.metrics import mean_squared_error\n",
    "from sklearn.model_selection import train_test_split\n",
    "\n",
    "# sklearn utilities\n",
    "from sklearn import datasets\n",
    "from sklearn.metrics import confusion_matrix, classification_report\n",
    "from sklearn import preprocessing\n",
    "\n",
    "# sklearn models\n",
    "from sklearn.linear_model import LogisticRegression\n",
    "from sklearn.tree import DecisionTreeClassifier\n",
    "from sklearn.svm import SVC\n",
    "from sklearn.ensemble import RandomForestClassifier\n",
    "from sklearn.decomposition import PCA"
   ]
  },
  {
   "cell_type": "code",
   "execution_count": 5,
   "metadata": {},
   "outputs": [],
   "source": [
    "def game_data(game_df,game_stats):\n",
    "    try:\n",
    "        away_team_df = game_df[['away_name', 'away_abbr', 'away_score']].rename(columns = {'away_name': 'team_name', 'away_abbr': 'team_abbr', 'away_score': 'score'})\n",
    "        home_team_df = game_df[['home_name','home_abbr', 'home_score']].rename(columns = {'home_name': 'team_name', 'home_abbr': 'team_abbr', 'home_score': 'score'})\n",
    "        try:\n",
    "            if game_df.loc[0,'away_score'] > game_df.loc[0,'home_score']:\n",
    "                away_team_df = pd.merge(away_team_df, pd.DataFrame({'game_won' : [1], 'game_lost' : [0]}),left_index = True, right_index = True)\n",
    "                home_team_df = pd.merge(home_team_df, pd.DataFrame({'game_won' : [0], 'game_lost' : [1]}),left_index = True, right_index = True)\n",
    "            elif game_df.loc[0,'away_score'] < game_df.loc[0,'home_score']:\n",
    "                away_team_df = pd.merge(away_team_df, pd.DataFrame({'game_won' : [0], 'game_lost' : [1]}),left_index = True, right_index = True)\n",
    "                home_team_df = pd.merge(home_team_df, pd.DataFrame({'game_won' : [1], 'game_lost' : [0]}),left_index = True, right_index = True)\n",
    "            else: \n",
    "                away_team_df = pd.merge(away_team_df, pd.DataFrame({'game_won' : [0], 'game_lost' : [0]}),left_index = True, right_index = True)\n",
    "                home_team_df = pd.merge(home_team_df, pd.DataFrame({'game_won' : [0], 'game_lost' : [0]}),left_index = True, right_index = True)\n",
    "        except TypeError:\n",
    "                away_team_df = pd.merge(away_team_df, pd.DataFrame({'game_won' : [np.nan], 'game_lost' : [np.nan]}),left_index = True, right_index = True)\n",
    "                home_team_df = pd.merge(home_team_df, pd.DataFrame({'game_won' : [np.nan], 'game_lost' : [np.nan]}),left_index = True, right_index = True)        \n",
    "\n",
    "        away_stats_df = game_stats.dataframe[['away_first_downs', 'away_fourth_down_attempts',\n",
    "               'away_fourth_down_conversions', 'away_fumbles', 'away_fumbles_lost',\n",
    "               'away_interceptions', 'away_net_pass_yards', 'away_pass_attempts',\n",
    "               'away_pass_completions', 'away_pass_touchdowns', 'away_pass_yards',\n",
    "               'away_penalties', 'away_points', 'away_rush_attempts',\n",
    "               'away_rush_touchdowns', 'away_rush_yards', 'away_third_down_attempts',\n",
    "               'away_third_down_conversions', 'away_time_of_possession',\n",
    "               'away_times_sacked', 'away_total_yards', 'away_turnovers',\n",
    "               'away_yards_from_penalties', 'away_yards_lost_from_sacks']].reset_index().drop(columns ='index').rename(columns = {\n",
    "               'away_first_downs': 'first_downs', 'away_fourth_down_attempts':'fourth_down_attempts',\n",
    "               'away_fourth_down_conversions':'fourth_down_conversions' , 'away_fumbles': 'fumbles', 'away_fumbles_lost': 'fumbles_lost',\n",
    "               'away_interceptions': 'interceptions', 'away_net_pass_yards':'net_pass_yards' , 'away_pass_attempts': 'pass_attempts',\n",
    "               'away_pass_completions':'pass_completions' , 'away_pass_touchdowns': 'pass_touchdowns', 'away_pass_yards': 'pass_yards',\n",
    "               'away_penalties': 'penalties', 'away_points': 'points', 'away_rush_attempts': 'rush_attempts',\n",
    "               'away_rush_touchdowns': 'rush_touchdowns', 'away_rush_yards': 'rush_yards', 'away_third_down_attempts': 'third_down_attempts',\n",
    "               'away_third_down_conversions': 'third_down_conversions', 'away_time_of_possession': 'time_of_possession',\n",
    "               'away_times_sacked': 'times_sacked', 'away_total_yards': 'total_yards', 'away_turnovers': 'turnovers',\n",
    "               'away_yards_from_penalties':'yards_from_penalties', 'away_yards_lost_from_sacks': 'yards_lost_from_sacks'})\n",
    "\n",
    "        home_stats_df = game_stats.dataframe[['home_first_downs', 'home_fourth_down_attempts',\n",
    "               'home_fourth_down_conversions', 'home_fumbles', 'home_fumbles_lost',\n",
    "               'home_interceptions', 'home_net_pass_yards', 'home_pass_attempts',\n",
    "               'home_pass_completions', 'home_pass_touchdowns', 'home_pass_yards',\n",
    "               'home_penalties', 'home_points', 'home_rush_attempts',\n",
    "               'home_rush_touchdowns', 'home_rush_yards', 'home_third_down_attempts',\n",
    "               'home_third_down_conversions', 'home_time_of_possession',\n",
    "               'home_times_sacked', 'home_total_yards', 'home_turnovers',\n",
    "               'home_yards_from_penalties', 'home_yards_lost_from_sacks']].reset_index().drop(columns = 'index').rename(columns = {\n",
    "               'home_first_downs': 'first_downs', 'home_fourth_down_attempts':'fourth_down_attempts',\n",
    "               'home_fourth_down_conversions':'fourth_down_conversions' , 'home_fumbles': 'fumbles', 'home_fumbles_lost': 'fumbles_lost',\n",
    "               'home_interceptions': 'interceptions', 'home_net_pass_yards':'net_pass_yards' , 'home_pass_attempts': 'pass_attempts',\n",
    "               'home_pass_completions':'pass_completions' , 'home_pass_touchdowns': 'pass_touchdowns', 'home_pass_yards': 'pass_yards',\n",
    "               'home_penalties': 'penalties', 'home_points': 'points', 'home_rush_attempts': 'rush_attempts',\n",
    "               'home_rush_touchdowns': 'rush_touchdowns', 'home_rush_yards': 'rush_yards', 'home_third_down_attempts': 'third_down_attempts',\n",
    "               'home_third_down_conversions': 'third_down_conversions', 'home_time_of_possession': 'time_of_possession',\n",
    "               'home_times_sacked': 'times_sacked', 'home_total_yards': 'total_yards', 'home_turnovers': 'turnovers',\n",
    "               'home_yards_from_penalties':'yards_from_penalties', 'home_yards_lost_from_sacks': 'yards_lost_from_sacks'})\n",
    "\n",
    "        away_team_df = pd.merge(away_team_df, away_stats_df,left_index = True, right_index = True)\n",
    "        home_team_df = pd.merge(home_team_df, home_stats_df,left_index = True, right_index = True)\n",
    "        try:\n",
    "            away_team_df['time_of_possession'] = (int(away_team_df['time_of_possession'].loc[0][0:2]) * 60) + int(away_team_df['time_of_possession'].loc[0][3:5])\n",
    "            home_team_df['time_of_possession'] = (int(home_team_df['time_of_possession'].loc[0][0:2]) * 60) + int(home_team_df['time_of_possession'].loc[0][3:5])\n",
    "        except TypeError:\n",
    "            away_team_df['time_of_possession'] = np.nan\n",
    "            home_team_df['time_of_possession'] = np.nan\n",
    "    except TypeError:\n",
    "        away_team_df = pd.DataFrame()\n",
    "        home_team_df = pd.DataFrame()\n",
    "    return away_team_df, home_team_df"
   ]
  },
  {
   "cell_type": "code",
   "execution_count": 6,
   "metadata": {},
   "outputs": [],
   "source": [
    "def game_data_up_to_week(weeks,year):\n",
    "    weeks_games_df = pd.DataFrame()\n",
    "    for w in range(len(weeks)):\n",
    "        date_string = str(weeks[w]) + '-' + str(year)\n",
    "        week_scores = Boxscores(weeks[w],year)\n",
    "        week_games_df = pd.DataFrame()\n",
    "        for g in range(len(week_scores.games[date_string])):\n",
    "            game_str = week_scores.games[date_string][g]['boxscore']\n",
    "            game_stats = Boxscore(game_str)\n",
    "            game_df = pd.DataFrame(week_scores.games[date_string][g], index = [0])\n",
    "            away_team_df, home_team_df = game_data(game_df,game_stats)\n",
    "            away_team_df['week'] = weeks[w]\n",
    "            home_team_df['week'] = weeks[w]\n",
    "            week_games_df = pd.concat([week_games_df,away_team_df])\n",
    "            week_games_df = pd.concat([week_games_df,home_team_df])\n",
    "        weeks_games_df = pd.concat([weeks_games_df,week_games_df])\n",
    "    return weeks_games_df"
   ]
  },
  {
   "cell_type": "code",
   "execution_count": 59,
   "metadata": {},
   "outputs": [],
   "source": [
    "df_1995 = game_data_up_to_week(range(1, 16), 1995)"
   ]
  },
  {
   "cell_type": "code",
   "execution_count": 60,
   "metadata": {},
   "outputs": [],
   "source": [
    "df_2000 = game_data_up_to_week(range(1, 16), 2000)"
   ]
  },
  {
   "cell_type": "code",
   "execution_count": 61,
   "metadata": {},
   "outputs": [],
   "source": [
    "df_2005 = game_data_up_to_week(range(1, 16), 2005)"
   ]
  },
  {
   "cell_type": "code",
   "execution_count": 62,
   "metadata": {},
   "outputs": [],
   "source": [
    "df_2010 = game_data_up_to_week(range(1, 16), 2010)"
   ]
  },
  {
   "cell_type": "code",
   "execution_count": 63,
   "metadata": {},
   "outputs": [],
   "source": [
    "df_2015 = game_data_up_to_week(range(1, 16), 2015)"
   ]
  },
  {
   "cell_type": "code",
   "execution_count": 64,
   "metadata": {},
   "outputs": [],
   "source": [
    "df_2019 = game_data_up_to_week(range(1,16), 2019)"
   ]
  },
  {
   "cell_type": "code",
   "execution_count": 65,
   "metadata": {},
   "outputs": [],
   "source": [
    "# 1995 Season\n",
    "y_1995 = df_1995[\"game_won\"]\n",
    "x_1995 = df_1995[list(df_1995.columns)[5:len(df_1995)]]\n",
    "\n",
    "# 2000 Season\n",
    "y_2000 = df_2000[\"game_won\"]\n",
    "x_2000 = df_2000[list(df_2000.columns)[5:len(df_2000)]]\n",
    "\n",
    "# 2005 Season\n",
    "y_2005 = df_2005[\"game_won\"]\n",
    "x_2005 = df_2005[list(df_2005.columns)[5:len(df_2005)]]\n",
    "\n",
    "# 2010 Season\n",
    "y_2010 = df_2010[\"game_won\"]\n",
    "x_2010 = df_2010[list(df_2010.columns)[5:len(df_2010)]]\n",
    "\n",
    "# 2015 Season\n",
    "y_2015 = df_2015[\"game_won\"]\n",
    "x_2015 = df_2015[list(df_2015.columns)[5:len(df_2015)]]\n",
    "\n",
    "# 2019 Season\n",
    "y_2019 = df_2019[\"game_won\"]\n",
    "x_2019 = df_2019[list(df_2019.columns)[5:len(df_2019)]]"
   ]
  },
  {
   "cell_type": "code",
   "execution_count": 66,
   "metadata": {},
   "outputs": [],
   "source": [
    "# 1995 Season Data split\n",
    "x_1995_train, x_1995_test, y_1995_train, y_1995_test = train_test_split(x_1995, y_1995)\n",
    "\n",
    "# 2000 Season Data split\n",
    "x_2000_train, x_2000_test, y_2000_train, y_2000_test = train_test_split(x_2000, y_2000)\n",
    "\n",
    "# 2005 Season Data split\n",
    "x_2005_train, x_2005_test, y_2005_train, y_2005_test = train_test_split(x_2005, y_2005)\n",
    "\n",
    "# 2010 Season Data split\n",
    "x_2010_train, x_2010_test, y_2010_train, y_2010_test = train_test_split(x_2010, y_2010)\n",
    "\n",
    "# 2015 Season Data split\n",
    "x_2015_train, x_2015_test, y_2015_train, y_2015_test = train_test_split(x_2015, y_2015)\n",
    "\n",
    "# 2019 Season Data split\n",
    "x_2019_train, x_2019_test, y_2019_train, y_2019_test = train_test_split(x_2019, y_2019)"
   ]
  },
  {
   "cell_type": "code",
   "execution_count": 79,
   "metadata": {},
   "outputs": [
    {
     "data": {
      "text/plain": [
       "LogisticRegression(max_iter=5000)"
      ]
     },
     "execution_count": 79,
     "metadata": {},
     "output_type": "execute_result"
    }
   ],
   "source": [
    "# Set up model for 1995 season\n",
    "clf_1995 = LogisticRegression(max_iter=5000)\n",
    "clf_1995.fit(x_1995_train, y_1995_train)\n",
    "\n",
    "# Set up model for 2000 season\n",
    "clf_2000 = LogisticRegression(max_iter=5000)\n",
    "clf_2000.fit(x_2000_train, y_2000_train)\n",
    "\n",
    "# Set up model for 2005 season\n",
    "clf_2005 = LogisticRegression(max_iter=5000)\n",
    "clf_2005.fit(x_2005_train, y_2005_train)\n",
    "\n",
    "# Set up model for 2010 season\n",
    "clf_2010 = LogisticRegression(max_iter=5000)\n",
    "clf_2010.fit(x_2010_train, y_2010_train)\n",
    "\n",
    "# Set up model for 2015 season\n",
    "clf_2015 = LogisticRegression(max_iter=5000)\n",
    "clf_2015.fit(x_2015_train, y_2015_train)\n",
    "\n",
    "# Set up model for 2019 season\n",
    "clf_2019 = LogisticRegression(max_iter=5000)\n",
    "clf_2019.fit(x_2019_train, y_2019_train)"
   ]
  },
  {
   "cell_type": "code",
   "execution_count": 94,
   "metadata": {},
   "outputs": [
    {
     "name": "stdout",
     "output_type": "stream",
     "text": [
      "1995 score: 0.9142857142857143\n",
      "2000 score: 0.8807339449541285\n",
      "2005 score: 0.8214285714285714\n",
      "2010 score: 0.8660714285714286\n",
      "2015 score: 0.8392857142857143\n",
      "2019 score: 0.8303571428571429\n"
     ]
    }
   ],
   "source": [
    "# Predict 1995 games based on 1995 model\n",
    "clf_1995.predict(x_1995_test)\n",
    "print(\"1995 score:\", clf_1995.score(x_1995_test, y_1995_test))\n",
    "\n",
    "# Predict 2000 games based on 2000 model\n",
    "clf_2000.predict(x_2000_test)\n",
    "print(\"2000 score:\", clf_2000.score(x_2000_test, y_2000_test))\n",
    "\n",
    "# Predict 2005 games based on 2005 model\n",
    "clf_2005.predict(x_2005_test)\n",
    "print(\"2005 score:\", clf_2005.score(x_2005_test, y_2005_test))\n",
    "\n",
    "# Predict 2010 games based on 2010 model\n",
    "clf_2010.predict(x_2010_test)\n",
    "print(\"2010 score:\", clf_2010.score(x_2010_test, y_2010_test))\n",
    "\n",
    "# Predict 2015 games based on 2015 model\n",
    "clf_2015.predict(x_2015_test)\n",
    "print(\"2015 score:\", clf_2015.score(x_2015_test, y_2015_test))\n",
    "\n",
    "# Predict 2019 games based on 2019 model\n",
    "clf_2019.predict(x_2019_test)\n",
    "print(\"2019 score:\", clf_2019.score(x_2019_test, y_2019_test))"
   ]
  }
 ],
 "metadata": {
  "kernelspec": {
   "display_name": "Python 3",
   "language": "python",
   "name": "python3"
  },
  "language_info": {
   "codemirror_mode": {
    "name": "ipython",
    "version": 3
   },
   "file_extension": ".py",
   "mimetype": "text/x-python",
   "name": "python",
   "nbconvert_exporter": "python",
   "pygments_lexer": "ipython3",
   "version": "3.9.2"
  }
 },
 "nbformat": 4,
 "nbformat_minor": 4
}
