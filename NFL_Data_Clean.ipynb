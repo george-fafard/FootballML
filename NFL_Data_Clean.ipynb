{
 "cells": [
  {
   "cell_type": "code",
   "execution_count": 1,
   "metadata": {
    "collapsed": true
   },
   "outputs": [
    {
     "name": "stdout",
     "output_type": "stream",
     "text": [
      "Requirement already satisfied: sportsipy in /Users/calebwilliams/Downloads/anaconda3/lib/python3.8/site-packages (0.6.0)\n",
      "Requirement already satisfied: pyquery>=1.4.0 in /Users/calebwilliams/Downloads/anaconda3/lib/python3.8/site-packages (from sportsipy) (1.4.3)\n",
      "Requirement already satisfied: pandas>=0.24.1 in /Users/calebwilliams/Downloads/anaconda3/lib/python3.8/site-packages (from sportsipy) (1.1.3)\n",
      "Requirement already satisfied: requests>=2.18.4 in /Users/calebwilliams/Downloads/anaconda3/lib/python3.8/site-packages (from sportsipy) (2.24.0)\n",
      "Requirement already satisfied: cssselect>0.7.9 in /Users/calebwilliams/Downloads/anaconda3/lib/python3.8/site-packages (from pyquery>=1.4.0->sportsipy) (1.1.0)\n",
      "Requirement already satisfied: lxml>=2.1 in /Users/calebwilliams/Downloads/anaconda3/lib/python3.8/site-packages (from pyquery>=1.4.0->sportsipy) (4.6.1)\n",
      "Requirement already satisfied: python-dateutil>=2.7.3 in /Users/calebwilliams/Downloads/anaconda3/lib/python3.8/site-packages (from pandas>=0.24.1->sportsipy) (2.8.1)\n",
      "Requirement already satisfied: pytz>=2017.2 in /Users/calebwilliams/Downloads/anaconda3/lib/python3.8/site-packages (from pandas>=0.24.1->sportsipy) (2020.1)\n",
      "Requirement already satisfied: numpy>=1.15.4 in /Users/calebwilliams/Downloads/anaconda3/lib/python3.8/site-packages (from pandas>=0.24.1->sportsipy) (1.19.2)\n",
      "Requirement already satisfied: chardet<4,>=3.0.2 in /Users/calebwilliams/Downloads/anaconda3/lib/python3.8/site-packages (from requests>=2.18.4->sportsipy) (3.0.4)\n",
      "Requirement already satisfied: certifi>=2017.4.17 in /Users/calebwilliams/Downloads/anaconda3/lib/python3.8/site-packages (from requests>=2.18.4->sportsipy) (2020.6.20)\n",
      "Requirement already satisfied: urllib3!=1.25.0,!=1.25.1,<1.26,>=1.21.1 in /Users/calebwilliams/Downloads/anaconda3/lib/python3.8/site-packages (from requests>=2.18.4->sportsipy) (1.25.11)\n",
      "Requirement already satisfied: idna<3,>=2.5 in /Users/calebwilliams/Downloads/anaconda3/lib/python3.8/site-packages (from requests>=2.18.4->sportsipy) (2.10)\n",
      "Requirement already satisfied: six>=1.5 in /Users/calebwilliams/Downloads/anaconda3/lib/python3.8/site-packages (from python-dateutil>=2.7.3->pandas>=0.24.1->sportsipy) (1.15.0)\n"
     ]
    }
   ],
   "source": [
    "import sys\n",
    "!{sys.executable} -m pip install sportsipy"
   ]
  },
  {
   "cell_type": "code",
   "execution_count": 2,
   "metadata": {},
   "outputs": [],
   "source": [
    "from sportsipy.nfl.boxscore import Boxscores, Boxscore\n",
    "Boxscores(1,2020).games\n",
    "import pandas as pd\n",
    "import numpy as np\n"
   ]
  },
  {
   "cell_type": "code",
   "execution_count": 27,
   "metadata": {},
   "outputs": [
    {
     "data": {
      "text/html": [
       "<div>\n",
       "<style scoped>\n",
       "    .dataframe tbody tr th:only-of-type {\n",
       "        vertical-align: middle;\n",
       "    }\n",
       "\n",
       "    .dataframe tbody tr th {\n",
       "        vertical-align: top;\n",
       "    }\n",
       "\n",
       "    .dataframe thead th {\n",
       "        text-align: right;\n",
       "    }\n",
       "</style>\n",
       "<table border=\"1\" class=\"dataframe\">\n",
       "  <thead>\n",
       "    <tr style=\"text-align: right;\">\n",
       "      <th></th>\n",
       "      <th>attendance</th>\n",
       "      <th>away_first_downs</th>\n",
       "      <th>away_fourth_down_attempts</th>\n",
       "      <th>away_fourth_down_conversions</th>\n",
       "      <th>away_fumbles</th>\n",
       "      <th>away_fumbles_lost</th>\n",
       "      <th>away_interceptions</th>\n",
       "      <th>away_net_pass_yards</th>\n",
       "      <th>away_pass_attempts</th>\n",
       "      <th>away_pass_completions</th>\n",
       "      <th>...</th>\n",
       "      <th>roof</th>\n",
       "      <th>stadium</th>\n",
       "      <th>surface</th>\n",
       "      <th>time</th>\n",
       "      <th>vegas_line</th>\n",
       "      <th>weather</th>\n",
       "      <th>winner</th>\n",
       "      <th>winning_abbr</th>\n",
       "      <th>winning_name</th>\n",
       "      <th>won_toss</th>\n",
       "    </tr>\n",
       "  </thead>\n",
       "  <tbody>\n",
       "    <tr>\n",
       "      <th>202009100kan</th>\n",
       "      <td>15895</td>\n",
       "      <td>21</td>\n",
       "      <td>1</td>\n",
       "      <td>1</td>\n",
       "      <td>0</td>\n",
       "      <td>0</td>\n",
       "      <td>1</td>\n",
       "      <td>242</td>\n",
       "      <td>32</td>\n",
       "      <td>20</td>\n",
       "      <td>...</td>\n",
       "      <td>Outdoors</td>\n",
       "      <td>Arrowhead Stadium</td>\n",
       "      <td>Astroturf</td>\n",
       "      <td>8:20pm</td>\n",
       "      <td>Kansas City Chiefs -9.5</td>\n",
       "      <td>56 degrees, relative humidity 95%, wind 7 mph</td>\n",
       "      <td>Home</td>\n",
       "      <td>KAN</td>\n",
       "      <td>Kansas City Chiefs</td>\n",
       "      <td>Chiefs (deferred)</td>\n",
       "    </tr>\n",
       "  </tbody>\n",
       "</table>\n",
       "<p>1 rows × 65 columns</p>\n",
       "</div>"
      ],
      "text/plain": [
       "              attendance  away_first_downs  away_fourth_down_attempts  \\\n",
       "202009100kan       15895                21                          1   \n",
       "\n",
       "              away_fourth_down_conversions  away_fumbles  away_fumbles_lost  \\\n",
       "202009100kan                             1             0                  0   \n",
       "\n",
       "              away_interceptions  away_net_pass_yards  away_pass_attempts  \\\n",
       "202009100kan                   1                  242                  32   \n",
       "\n",
       "              away_pass_completions  ...      roof            stadium  \\\n",
       "202009100kan                     20  ...  Outdoors  Arrowhead Stadium   \n",
       "\n",
       "                surface    time               vegas_line  \\\n",
       "202009100kan  Astroturf  8:20pm  Kansas City Chiefs -9.5   \n",
       "\n",
       "                                                    weather  winner  \\\n",
       "202009100kan  56 degrees, relative humidity 95%, wind 7 mph    Home   \n",
       "\n",
       "              winning_abbr        winning_name           won_toss  \n",
       "202009100kan           KAN  Kansas City Chiefs  Chiefs (deferred)  \n",
       "\n",
       "[1 rows x 65 columns]"
      ]
     },
     "execution_count": 27,
     "metadata": {},
     "output_type": "execute_result"
    }
   ],
   "source": [
    "game_str = Boxscores(1,2020).games['1-2020'][0]['boxscore']\n",
    "game_stats = Boxscore(game_str)\n",
    "game_stats.dataframe"
   ]
  },
  {
   "cell_type": "code",
   "execution_count": 23,
   "metadata": {},
   "outputs": [],
   "source": [
    "away_game_df = game_stats.dataframe[['away_first_downs', 'away_fourth_down_attempts',\n",
    "       'away_fourth_down_conversions', 'away_fumbles', 'away_fumbles_lost',\n",
    "       'away_interceptions', 'away_net_pass_yards', 'away_pass_attempts',\n",
    "       'away_pass_completions', 'away_pass_touchdowns', 'away_pass_yards',\n",
    "       'away_penalties', 'away_points', 'away_rush_attempts',\n",
    "       'away_rush_touchdowns', 'away_rush_yards', 'away_third_down_attempts',\n",
    "       'away_third_down_conversions', 'away_time_of_possession',\n",
    "       'away_times_sacked', 'away_total_yards', 'away_turnovers',\n",
    "       'away_yards_from_penalties', 'away_yards_lost_from_sacks']]\n",
    "home_game_df = [['home_first_downs', 'home_fourth_down_attempts',\n",
    "       'home_fourth_down_conversions', 'home_fumbles', 'home_fumbles_lost',\n",
    "       'home_interceptions', 'home_net_pass_yards', 'home_pass_attempts',\n",
    "       'home_pass_completions', 'home_pass_touchdowns', 'home_pass_yards',\n",
    "       'home_penalties', 'home_points', 'home_rush_attempts',\n",
    "       'home_rush_touchdowns', 'home_rush_yards', 'home_third_down_attempts',\n",
    "       'home_third_down_conversions', 'home_time_of_possession',\n",
    "       'home_times_sacked', 'home_total_yards', 'home_turnovers',\n",
    "       'home_yards_from_penalties', 'home_yards_lost_from_sacks']]\n",
    "\n"
   ]
  },
  {
   "cell_type": "code",
   "execution_count": 6,
   "metadata": {},
   "outputs": [
    {
     "data": {
      "text/plain": [
       "Index(['attendance', 'away_first_downs', 'away_fourth_down_attempts',\n",
       "       'away_fourth_down_conversions', 'away_fumbles', 'away_fumbles_lost',\n",
       "       'away_interceptions', 'away_net_pass_yards', 'away_pass_attempts',\n",
       "       'away_pass_completions', 'away_pass_touchdowns', 'away_pass_yards',\n",
       "       'away_penalties', 'away_points', 'away_rush_attempts',\n",
       "       'away_rush_touchdowns', 'away_rush_yards', 'away_third_down_attempts',\n",
       "       'away_third_down_conversions', 'away_time_of_possession',\n",
       "       'away_times_sacked', 'away_total_yards', 'away_turnovers',\n",
       "       'away_yards_from_penalties', 'away_yards_lost_from_sacks', 'date',\n",
       "       'datetime', 'duration', 'home_first_downs', 'home_fourth_down_attempts',\n",
       "       'home_fourth_down_conversions', 'home_fumbles', 'home_fumbles_lost',\n",
       "       'home_interceptions', 'home_net_pass_yards', 'home_pass_attempts',\n",
       "       'home_pass_completions', 'home_pass_touchdowns', 'home_pass_yards',\n",
       "       'home_penalties', 'home_points', 'home_rush_attempts',\n",
       "       'home_rush_touchdowns', 'home_rush_yards', 'home_third_down_attempts',\n",
       "       'home_third_down_conversions', 'home_time_of_possession',\n",
       "       'home_times_sacked', 'home_total_yards', 'home_turnovers',\n",
       "       'home_yards_from_penalties', 'home_yards_lost_from_sacks',\n",
       "       'losing_abbr', 'losing_name', 'over_under', 'roof', 'stadium',\n",
       "       'surface', 'time', 'vegas_line', 'weather', 'winner', 'winning_abbr',\n",
       "       'winning_name', 'won_toss'],\n",
       "      dtype='object')"
      ]
     },
     "execution_count": 6,
     "metadata": {},
     "output_type": "execute_result"
    }
   ],
   "source": [
    "game_stats.dataframe.columns"
   ]
  },
  {
   "cell_type": "code",
   "execution_count": null,
   "metadata": {},
   "outputs": [],
   "source": []
  }
 ],
 "metadata": {
  "kernelspec": {
   "display_name": "Python 3",
   "language": "python",
   "name": "python3"
  },
  "language_info": {
   "codemirror_mode": {
    "name": "ipython",
    "version": 3
   },
   "file_extension": ".py",
   "mimetype": "text/x-python",
   "name": "python",
   "nbconvert_exporter": "python",
   "pygments_lexer": "ipython3",
   "version": "3.8.5"
  }
 },
 "nbformat": 4,
 "nbformat_minor": 4
}
