{
 "cells": [
  {
   "cell_type": "code",
   "execution_count": 1,
   "id": "revolutionary-kruger",
   "metadata": {},
   "outputs": [],
   "source": [
    "# Import the code for the classifier in this file and run everything here\n",
    "# as a testing/results interface"
   ]
  },
  {
   "cell_type": "code",
   "execution_count": 1,
   "id": "d4c6d0c2",
   "metadata": {},
   "outputs": [],
   "source": [
    "# Insert top level directory into the system path so parent and sibling \n",
    "# modules can be imported \n",
    "import pathlib\n",
    "import sys\n",
    "\n",
    "# Convert path to use proper directory markers based on \n",
    "# operating system\n",
    "PATH = str(pathlib.Path('../../'))\n",
    "\n",
    "# Insert path to system path\n",
    "sys.path.insert(0, PATH)"
   ]
  },
  {
   "cell_type": "code",
   "execution_count": 2,
   "id": "d889c6d6",
   "metadata": {},
   "outputs": [
    {
     "data": {
      "text/plain": [
       "[       Unnamed: 0  attendance  away_first_downs  away_fourth_down_attempts  \\\n",
       " 0    201009090nor       70051                12                          0   \n",
       " 1    201009120chi       62080                13                          1   \n",
       " 2    201009120buf       69295                19                          0   \n",
       " 3    201009120tam       47211                15                          1   \n",
       " 4    201009120pit       63609                18                          0   \n",
       " ..            ...         ...               ...                        ...   \n",
       " 262  201101160chi       62265                18                          0   \n",
       " 263  201101160nwe       68756                14                          0   \n",
       " 264  201101230chi       62377                23                          0   \n",
       " 265  201101230pit       66662                17                          3   \n",
       " 266  201102060pit      103219                19                          1   \n",
       " \n",
       "      away_fourth_down_conversions  away_fumbles  away_fumbles_lost  \\\n",
       " 0                               0             1                  0   \n",
       " 1                               0             3                  2   \n",
       " 2                               0             0                  0   \n",
       " 3                               0             3                  1   \n",
       " 4                               0             0                  0   \n",
       " ..                            ...           ...                ...   \n",
       " 262                             0             1                  0   \n",
       " 263                             0             1                  0   \n",
       " 264                             0             2                  0   \n",
       " 265                             2             2                  1   \n",
       " 266                             0             1                  1   \n",
       " \n",
       "      away_interceptions  away_net_pass_yards  away_pass_attempts  ...  \\\n",
       " 0                     1                  162                  27  ...   \n",
       " 1                     1                  148                  34  ...   \n",
       " 2                     0                  164                  34  ...   \n",
       " 3                     2                  236                  38  ...   \n",
       " 4                     1                  237                  44  ...   \n",
       " ..                  ...                  ...                 ...  ...   \n",
       " 262                   0                  242                  46  ...   \n",
       " 263                   0                  194                  25  ...   \n",
       " 264                   2                  236                  30  ...   \n",
       " 265                   0                  219                  33  ...   \n",
       " 266                   2                  261                  40  ...   \n",
       " \n",
       "                    stadium    surface    time                 vegas_line  \\\n",
       " 0      Louisiana Superdome  Sportturf  8:41pm    New Orleans Saints -5.0   \n",
       " 1            Soldier Field      Grass  1:02pm         Chicago Bears -6.5   \n",
       " 2     Ralph Wilson Stadium  Astroplay  1:02pm        Miami Dolphins -3.0   \n",
       " 3    Raymond James Stadium      Grass  1:02pm  Tampa Bay Buccaneers -2.5   \n",
       " 4              Heinz Field      Grass  1:02pm       Atlanta Falcons -1.5   \n",
       " ..                     ...        ...     ...                        ...   \n",
       " 262          Soldier Field      Grass  1:05pm        Chicago Bears -10.0   \n",
       " 263       Gillette Stadium  Fieldturf  4:40pm  New England Patriots -9.5   \n",
       " 264          Soldier Field      Grass  3:05pm     Green Bay Packers -3.5   \n",
       " 265            Heinz Field      Grass  6:41pm   Pittsburgh Steelers -4.0   \n",
       " 266        Cowboys Stadium      Grass  6:34pm     Green Bay Packers -3.0   \n",
       " \n",
       "                                                weather  winner  winning_abbr  \\\n",
       " 0                                                  NaN    Home           NOR   \n",
       " 1    75 degrees, relative humidity 45%, wind 10 mph...    Home           CHI   \n",
       " 2    62 degrees, relative humidity 81%, wind 7 mph,...    Away           MIA   \n",
       " 3        87 degrees, relative humidity 78%, wind 6 mph    Home           TAM   \n",
       " 4        65 degrees, relative humidity 67%, wind 9 mph    Home           PIT   \n",
       " ..                                                 ...     ...           ...   \n",
       " 262  24 degrees, relative humidity 55%, wind 4 mph,...    Home           CHI   \n",
       " 263  30 degrees, relative humidity 0%, wind 14 mph,...    Away           NYJ   \n",
       " 264  20 degrees, relative humidity 34%, wind 14 mph...    Away           GNB   \n",
       " 265  17 degrees, relative humidity 44%, wind 10 mph...    Home           PIT   \n",
       " 266                                                NaN    Home           GNB   \n",
       " \n",
       "              winning_name             won_toss  week  \n",
       " 0      New Orleans Saints               Saints     1  \n",
       " 1           Chicago Bears                Bears     1  \n",
       " 2          Miami Dolphins  Dolphins (deferred)     1  \n",
       " 3    Tampa Bay Buccaneers           Buccaneers     1  \n",
       " 4     Pittsburgh Steelers             Steelers     1  \n",
       " ..                    ...                  ...   ...  \n",
       " 262         Chicago Bears             Seahawks    19  \n",
       " 263         New York Jets  Patriots (deferred)    19  \n",
       " 264     Green Bay Packers     Bears (deferred)    20  \n",
       " 265   Pittsburgh Steelers      Jets (deferred)    20  \n",
       " 266     Green Bay Packers   Packers (deferred)    21  \n",
       " \n",
       " [267 rows x 67 columns]]"
      ]
     },
     "execution_count": 2,
     "metadata": {},
     "output_type": "execute_result"
    }
   ],
   "source": [
    "# THIS IS HERE JUST AS AN EXAMPLE. YOU CAN REMOVE THIS WHEN YOU START \n",
    "# WORKING ON IT\n",
    "from FootballML.Classifiers.Individual.svm_classifier import test_data\n",
    "\n",
    "# Display data\n",
    "test = test_data()\n",
    "test"
   ]
  }
 ],
 "metadata": {
  "kernelspec": {
   "display_name": "Python 3",
   "language": "python",
   "name": "python3"
  },
  "language_info": {
   "codemirror_mode": {
    "name": "ipython",
    "version": 3
   },
   "file_extension": ".py",
   "mimetype": "text/x-python",
   "name": "python",
   "nbconvert_exporter": "python",
   "pygments_lexer": "ipython3",
   "version": "3.9.4"
  }
 },
 "nbformat": 4,
 "nbformat_minor": 5
}
