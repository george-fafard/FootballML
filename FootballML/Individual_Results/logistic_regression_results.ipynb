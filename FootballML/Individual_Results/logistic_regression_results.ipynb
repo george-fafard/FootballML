{
 "cells": [
  {
   "cell_type": "code",
   "execution_count": 1,
   "id": "otherwise-details",
   "metadata": {},
   "outputs": [],
   "source": [
    "# Import the code for the classifier in this file and run everything here\n",
    "# as a testing/results interface"
   ]
  },
  {
   "cell_type": "code",
   "execution_count": 1,
   "id": "608300fc",
   "metadata": {},
   "outputs": [],
   "source": [
    "# Insert top level directory into the system path so parent and sibling \n",
    "# modules can be imported \n",
    "import pathlib\n",
    "import sys\n",
    "\n",
    "# Convert path to use proper directory markers based on \n",
    "# operating system\n",
    "PATH = str(pathlib.Path('../../'))\n",
    "\n",
    "# Insert path to system path\n",
    "sys.path.insert(0, PATH)"
   ]
  },
  {
   "cell_type": "code",
   "execution_count": 2,
   "id": "f567bed3",
   "metadata": {},
   "outputs": [],
   "source": [
    "# THIS IS HERE JUST AS AN EXAMPLE. YOU CAN REMOVE THIS WHEN YOU START \n",
    "# WORKING ON IT\n",
    "from FootballML.Classifiers.Individual.logistic_regression_classifier import test"
   ]
  },
  {
   "cell_type": "code",
   "execution_count": 3,
   "id": "d8bf8699",
   "metadata": {},
   "outputs": [
    {
     "name": "stdout",
     "output_type": "stream",
     "text": [
      "It worked for logistic regression\n"
     ]
    }
   ],
   "source": [
    "test()"
   ]
  },
  {
   "cell_type": "code",
   "execution_count": 2,
   "id": "bdfe3921",
   "metadata": {},
   "outputs": [],
   "source": [
    "from FootballML.Dataset.cleaned_data import read_game_data_from_files\n",
    "from FootballML import DATA_PATH"
   ]
  },
  {
   "cell_type": "code",
   "execution_count": 4,
   "id": "21289844",
   "metadata": {},
   "outputs": [
    {
     "name": "stdout",
     "output_type": "stream",
     "text": [
      "ERROR: Cannot find file for year 2007\n"
     ]
    },
    {
     "data": {
      "text/plain": [
       "'/home/aleigator/FootballML/FootballML/FootballML/Dataset/Loaded_Raw_Data'"
      ]
     },
     "execution_count": 4,
     "metadata": {},
     "output_type": "execute_result"
    }
   ],
   "source": [
    "data2007 = read_game_data_from_files(2007)\n",
    "DATA_PATH"
   ]
  }
 ],
 "metadata": {
  "kernelspec": {
   "display_name": "Python 3",
   "language": "python",
   "name": "python3"
  },
  "language_info": {
   "codemirror_mode": {
    "name": "ipython",
    "version": 3
   },
   "file_extension": ".py",
   "mimetype": "text/x-python",
   "name": "python",
   "nbconvert_exporter": "python",
   "pygments_lexer": "ipython3",
   "version": "3.9.4"
  }
 },
 "nbformat": 4,
 "nbformat_minor": 5
}
