{
 "cells": [
  {
   "cell_type": "code",
   "execution_count": null,
   "id": "53c9690e",
   "metadata": {},
   "outputs": [],
   "source": [
    "# Results for Logistic Regression Classifier"
   ]
  },
  {
   "cell_type": "code",
   "execution_count": 1,
   "id": "608300fc",
   "metadata": {},
   "outputs": [],
   "source": [
    "# Insert top level directory into the system path so parent and sibling \n",
    "# modules can be imported \n",
    "import pathlib\n",
    "import sys\n",
    "\n",
    "# Convert path to use proper directory markers based on \n",
    "# operating system\n",
    "PATH = str(pathlib.Path('../../'))\n",
    "\n",
    "# Insert path to system path\n",
    "sys.path.insert(0, PATH)"
   ]
  },
  {
   "cell_type": "code",
   "execution_count": 2,
   "id": "bdfe3921",
   "metadata": {},
   "outputs": [],
   "source": [
    "# Logistic Regression classifier imports\n",
    "from FootballML.Classifiers.Individual.logistic_regression_classifier import run_logistic_regression"
   ]
  },
  {
   "cell_type": "code",
   "execution_count": 3,
   "id": "8130377c",
   "metadata": {},
   "outputs": [
    {
     "name": "stdout",
     "output_type": "stream",
     "text": [
      "Score: 0.7\n",
      "\n",
      "Confusion matrix:\n",
      "[[ 9  7]\n",
      " [ 2 12]]\n"
     ]
    }
   ],
   "source": [
    "# Run classifier\n",
    "run_logistic_regression()"
   ]
  }
 ],
 "metadata": {
  "kernelspec": {
   "display_name": "Python 3",
   "language": "python",
   "name": "python3"
  },
  "language_info": {
   "codemirror_mode": {
    "name": "ipython",
    "version": 3
   },
   "file_extension": ".py",
   "mimetype": "text/x-python",
   "name": "python",
   "nbconvert_exporter": "python",
   "pygments_lexer": "ipython3",
   "version": "3.9.5"
  }
 },
 "nbformat": 4,
 "nbformat_minor": 5
}
