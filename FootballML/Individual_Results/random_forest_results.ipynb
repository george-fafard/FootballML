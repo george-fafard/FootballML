{
 "cells": [
  {
   "cell_type": "code",
   "execution_count": null,
   "metadata": {},
   "outputs": [],
   "source": [
    "# Import the code for the classifier in this file and run everything here\n",
    "# as a testing/results interface"
   ]
  },
  {
   "cell_type": "code",
   "execution_count": 1,
   "metadata": {},
   "outputs": [],
   "source": [
    "# Insert top level directory into the system path so parent and sibling \n",
    "# modules can be imported \n",
    "import pathlib\n",
    "import sys\n",
    "from sklearn.model_selection import train_test_split\n",
    "from sklearn.linear_model import LogisticRegression\n",
    "from sklearn.ensemble import RandomForestClassifier\n",
    "from sklearn.ensemble import RandomForestRegressor\n",
    "from sklearn.preprocessing import PolynomialFeatures\n",
    "from sklearn.model_selection import RandomizedSearchCV\n",
    "from sklearn.model_selection import GridSearchCV\n",
    "from sklearn import preprocessing\n",
    "import numpy as np\n",
    "from pprint import pprint\n",
    "from sklearn import preprocessing as p\n",
    "from sklearn.model_selection import cross_val_score\n",
    "from sklearn.model_selection import cross_val_predict\n",
    "from sklearn import metrics\n",
    "import numpy as np\n",
    "import pandas as pd\n",
    "import matplotlib.pyplot as plt\n",
    "\n",
    "# Convert path to use proper directory markers based on \n",
    "# operating system\n",
    "PATH = str(pathlib.Path('../../'))\n",
    "\n",
    "# Insert path to system path\n",
    "sys.path.insert(0, PATH)"
   ]
  },
  {
   "cell_type": "code",
   "execution_count": 2,
   "metadata": {
    "scrolled": true
   },
   "outputs": [],
   "source": [
    "# THIS IS HERE JUST AS AN EXAMPLE. YOU CAN REMOVE THIS WHEN YOU START \n",
    "# WORKING ON IT\n",
    "from FootballML.Classifiers.Individual.random_forest_classifier import test_data\n",
    "from FootballML.Classifiers.Individual.random_forest_classifier import test_train\n",
    "#from FootballML.Classifiers.Individual.random_forest_classifier import get_data\n",
    "\n",
    "from FootballML.Classifiers.Individual import random_forest_classifier as cd\n",
    "\n",
    "\n",
    "xtrain,xtest,ytrain,ytest= cd.get_data()\n",
    "\n"
   ]
  },
  {
   "cell_type": "code",
   "execution_count": 28,
   "metadata": {},
   "outputs": [
    {
     "data": {
      "text/plain": [
       "0.5868055555555556"
      ]
     },
     "execution_count": 28,
     "metadata": {},
     "output_type": "execute_result"
    }
   ],
   "source": [
    "clf3 = RandomForestClassifier()\n",
    "clf3.fit(xtrain, ytrain)\n",
    "clf3.predict(xtest)\n",
    "clf3.score(xtest,ytest)"
   ]
  },
  {
   "cell_type": "code",
   "execution_count": 10,
   "metadata": {},
   "outputs": [
    {
     "name": "stdout",
     "output_type": "stream",
     "text": [
      "Fitting 3 folds for each of 100 candidates, totalling 300 fits\n"
     ]
    },
    {
     "name": "stderr",
     "output_type": "stream",
     "text": [
      "[Parallel(n_jobs=-1)]: Using backend LokyBackend with 12 concurrent workers.\n",
      "[Parallel(n_jobs=-1)]: Done  17 tasks      | elapsed:    9.6s\n",
      "[Parallel(n_jobs=-1)]: Done 138 tasks      | elapsed:  4.7min\n",
      "[Parallel(n_jobs=-1)]: Done 300 out of 300 | elapsed: 12.7min finished\n"
     ]
    }
   ],
   "source": [
    "params = cd.get_params()"
   ]
  },
  {
   "cell_type": "code",
   "execution_count": 11,
   "metadata": {},
   "outputs": [
    {
     "data": {
      "text/plain": [
       "{'n_estimators': 100,\n",
       " 'min_samples_split': 12,\n",
       " 'min_samples_leaf': 6,\n",
       " 'max_features': 'sqrt',\n",
       " 'max_depth': 1000,\n",
       " 'bootstrap': True}"
      ]
     },
     "execution_count": 11,
     "metadata": {},
     "output_type": "execute_result"
    }
   ],
   "source": [
    "params"
   ]
  },
  {
   "cell_type": "code",
   "execution_count": 7,
   "metadata": {},
   "outputs": [
    {
     "name": "stdout",
     "output_type": "stream",
     "text": [
      "Fitting 3 folds for each of 81 candidates, totalling 243 fits\n"
     ]
    },
    {
     "name": "stderr",
     "output_type": "stream",
     "text": [
      "[Parallel(n_jobs=-1)]: Using backend LokyBackend with 12 concurrent workers.\n",
      "[Parallel(n_jobs=-1)]: Done  17 tasks      | elapsed:   11.5s\n",
      "[Parallel(n_jobs=-1)]: Done 138 tasks      | elapsed:  1.4min\n",
      "[Parallel(n_jobs=-1)]: Done 243 out of 243 | elapsed:  2.5min finished\n"
     ]
    },
    {
     "name": "stdout",
     "output_type": "stream",
     "text": [
      "Accuracy: 60.5 %.\n"
     ]
    }
   ],
   "source": [
    "final = cd.gridCV()"
   ]
  },
  {
   "cell_type": "code",
   "execution_count": 30,
   "metadata": {},
   "outputs": [
    {
     "name": "stdout",
     "output_type": "stream",
     "text": [
      "[0.5590277777777778, 0.6059027777777778, 0.6050347222222222, 0.6050347222222222, 0.6163194444444444, 0.6041666666666666, 0.609375, 0.6059027777777778, 0.6024305555555556, 0.6128472222222222, 0.6137152777777778, 0.6102430555555556, 0.609375, 0.6128472222222222, 0.6102430555555556, 0.6189236111111112, 0.6137152777777778, 0.609375, 0.6154513888888888, 0.6085069444444444]\n"
     ]
    }
   ],
   "source": [
    "result = []\n",
    "i = 1\n",
    "for i in range(i,2001,100):\n",
    "    clf2 = RandomForestClassifier(bootstrap=False,max_depth=i,max_features='sqrt',min_samples_leaf=7,min_samples_split=11,n_estimators=800)\n",
    "    clf2.fit(xtrain, ytrain)\n",
    "    clf2.predict(xtest)\n",
    "    acc=clf2.score(xtest,ytest)\n",
    "    result.append(acc)\n",
    "print(result)"
   ]
  },
  {
   "cell_type": "code",
   "execution_count": null,
   "metadata": {},
   "outputs": [],
   "source": []
  },
  {
   "cell_type": "code",
   "execution_count": 31,
   "metadata": {},
   "outputs": [
    {
     "name": "stdout",
     "output_type": "stream",
     "text": [
      "[0.5277777777777778, 0.5946180555555556, 0.6024305555555556, 0.6085069444444444, 0.6189236111111112, 0.6119791666666666, 0.6085069444444444, 0.6119791666666666, 0.6137152777777778, 0.6163194444444444, 0.6145833333333334, 0.6059027777777778, 0.6145833333333334, 0.6076388888888888, 0.6102430555555556, 0.6041666666666666, 0.6119791666666666, 0.6067708333333334, 0.6137152777777778, 0.6154513888888888]\n"
     ]
    }
   ],
   "source": [
    "result2 = []\n",
    "j = 1\n",
    "for j in range(j,2001,100):\n",
    "    clf2 = RandomForestClassifier(bootstrap=False,max_depth=800,max_features='sqrt',min_samples_leaf=7,min_samples_split=11,n_estimators=j)\n",
    "    clf2.fit(xtrain, ytrain)\n",
    "    clf2.predict(xtest)\n",
    "    acc=clf2.score(xtest,ytest)\n",
    "    result2.append(acc)\n",
    "print(result2)"
   ]
  },
  {
   "cell_type": "code",
   "execution_count": null,
   "metadata": {},
   "outputs": [],
   "source": []
  },
  {
   "cell_type": "code",
   "execution_count": 33,
   "metadata": {},
   "outputs": [
    {
     "data": {
      "image/png": "[encoded data removed]",
      "text/plain": [
       "<Figure size 432x288 with 1 Axes>"
      ]
     },
     "metadata": {
      "needs_background": "light"
     },
     "output_type": "display_data"
    }
   ],
   "source": [
    "fig, ax = plt.subplots()\n",
    "\n",
    "ax.title.set_text('Score Plotting')\n",
    "plt.ylabel('Accuracy')\n",
    "plt.xlabel('Size of Tree or Depth in Hundreds')\n",
    "\n",
    "xi = list(range(len(result)))\n",
    "\n",
    "y1 = result\n",
    "y2 = result2\n",
    "\n",
    "plt.plot(y1, \"-b\", label=\"Depth\")\n",
    "plt.plot(y2, \"-r\", label=\"Tree Size\")\n",
    "\n",
    "plt.legend(loc=\"lower right\")\n",
    "\n",
    "plt.xticks(xi)\n",
    "\n",
    "plt.show()"
   ]
  },
  {
   "cell_type": "code",
   "execution_count": null,
   "metadata": {},
   "outputs": [],
   "source": []
  }
 ],
 "metadata": {
  "kernelspec": {
   "display_name": "Python 3",
   "language": "python",
   "name": "python3"
  },
  "language_info": {
   "codemirror_mode": {
    "name": "ipython",
    "version": 3
   },
   "file_extension": ".py",
   "mimetype": "text/x-python",
   "name": "python",
   "nbconvert_exporter": "python",
   "pygments_lexer": "ipython3",
   "version": "3.8.5"
  }
 },
 "nbformat": 4,
 "nbformat_minor": 5
}
