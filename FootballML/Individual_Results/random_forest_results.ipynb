{
 "cells": [
  {
   "cell_type": "code",
   "execution_count": null,
   "id": "certified-pakistan",
   "metadata": {},
   "outputs": [],
   "source": [
    "# Import the code for the classifier in this file and run everything here\n",
    "# as a testing/results interface"
   ]
  },
  {
   "cell_type": "code",
   "execution_count": 1,
   "id": "b1a6f681",
   "metadata": {},
   "outputs": [],
   "source": [
    "# Insert top level directory into the system path so parent and sibling \n",
    "# modules can be imported \n",
    "import sys\n",
    "import pathlib\n",
    "\n",
    "# Convert path to use proper directory markers based on \n",
    "# operating system\n",
    "PATH = str(pathlib.Path('../../'))\n",
    "\n",
    "# Insert path to system path\n",
    "sys.path.insert(0, PATH)"
   ]
  },
  {
   "cell_type": "code",
   "execution_count": 2,
   "id": "a4f4cf6a",
   "metadata": {},
   "outputs": [],
   "source": [
    "# THIS IS HERE JUST AS AN EXAMPLE. YOU CAN REMOVE THIS WHEN YOU START \n",
    "# WORKING ON IT\n",
    "from FootballML.Classifiers.Individual.random_forest_classifier import test"
   ]
  },
  {
   "cell_type": "code",
   "execution_count": 3,
   "id": "a603dc39",
   "metadata": {},
   "outputs": [
    {
     "name": "stdout",
     "output_type": "stream",
     "text": [
      "It worked for random forest\n"
     ]
    }
   ],
   "source": [
    "test()"
   ]
  }
 ],
 "metadata": {
  "kernelspec": {
   "display_name": "Python 3",
   "language": "python",
   "name": "python3"
  },
  "language_info": {
   "codemirror_mode": {
    "name": "ipython",
    "version": 3
   },
   "file_extension": ".py",
   "mimetype": "text/x-python",
   "name": "python",
   "nbconvert_exporter": "python",
   "pygments_lexer": "ipython3",
   "version": "3.9.4"
  }
 },
 "nbformat": 4,
 "nbformat_minor": 5
}
