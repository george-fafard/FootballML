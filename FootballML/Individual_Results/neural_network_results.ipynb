{
 "cells": [
  {
   "cell_type": "code",
   "execution_count": 1,
   "metadata": {},
   "outputs": [],
   "source": [
    "# Import the code for the classifier in this file and run everything here\n",
    "# as a testing/results interface"
   ]
  },
  {
   "cell_type": "code",
   "execution_count": 2,
   "metadata": {},
   "outputs": [],
   "source": [
    "# Insert top level directory into the system path so parent and sibling \n",
    "# modules can be imported \n",
    "import pathlib\n",
    "import sys\n",
    "\n",
    "# Convert path to use proper directory markers based on \n",
    "# operating system\n",
    "PATH = str(pathlib.Path('../../'))\n",
    "\n",
    "# Insert path to system path\n",
    "sys.path.insert(0, PATH)"
   ]
  },
  {
   "cell_type": "code",
   "execution_count": 3,
   "metadata": {},
   "outputs": [],
   "source": [
    "# THIS IS HERE JUST AS AN EXAMPLE. YOU CAN REMOVE THIS WHEN YOU START \n",
    "# WORKING ON IT\n",
    "from FootballML.Classifiers.Individual.neural_network_classifier import test_data\n",
    "import FootballML.Classifiers.Individual.neural_network_classifier as nnc"
   ]
  },
  {
   "cell_type": "code",
   "execution_count": 4,
   "metadata": {},
   "outputs": [],
   "source": [
    "year=2012\n",
    "x,y,xl,yl = nnc.test_data(year,year+7) \n",
    "xtrain, xvalid, xtest, ytrain, yvalid, ytest = nnc.prep_data(x,y,xl,yl)\n",
    "\n"
   ]
  },
  {
   "cell_type": "code",
   "execution_count": 5,
   "metadata": {},
   "outputs": [],
   "source": [
    "model = nnc.run_neural_network(2019)"
   ]
  },
  {
   "cell_type": "code",
   "execution_count": 7,
   "metadata": {},
   "outputs": [
    {
     "data": {
      "text/plain": [
       "array([0.38566202, 0.58784574, 0.54723793, 0.62024945, 0.5226219 ,\n",
       "       0.6177836 , 0.34336752, 0.49182138, 0.47577178, 0.6280154 ,\n",
       "       0.65859693, 0.28993064, 0.5991279 , 0.78680736, 0.6032413 ,\n",
       "       0.33648607, 0.6276926 , 0.66918385, 0.37732282, 0.44921005,\n",
       "       0.5103419 , 0.54314345, 0.63396716, 0.8449202 , 0.7559351 ,\n",
       "       0.64319485, 0.3875026 , 0.3853694 , 0.39833367, 0.8254943 ,\n",
       "       0.4601638 , 0.26561317, 0.6001402 , 0.6809796 , 0.7446806 ,\n",
       "       0.29465845, 0.3579384 , 0.7560943 , 0.6716328 , 0.3917931 ,\n",
       "       0.665674  , 0.4952903 , 0.78946453, 0.69267344, 0.28414148,\n",
       "       0.38157034, 0.70917463, 0.51562667, 0.67842716, 0.58715975,\n",
       "       0.43373448, 0.81291324, 0.7683145 , 0.3331962 , 0.6013863 ,\n",
       "       0.6288563 , 0.5978743 , 0.7187338 , 0.41817817, 0.62532943,\n",
       "       0.4555366 , 0.7297094 , 0.7289147 , 0.7163092 , 0.65073943,\n",
       "       0.64960057, 0.45927408, 0.27913806, 0.85448956, 0.56455976,\n",
       "       0.6031527 , 0.34336048, 0.78391314, 0.6906825 , 0.4674822 ,\n",
       "       0.5026875 , 0.299491  , 0.31116772, 0.4139881 , 0.49539825,\n",
       "       0.40564847, 0.6718649 , 0.68183255, 0.7670042 , 0.66565305,\n",
       "       0.7817821 , 0.52156365, 0.7646681 , 0.7387666 , 0.30090362,\n",
       "       0.3999609 , 0.8352187 , 0.29615483, 0.56514305, 0.20687924,\n",
       "       0.51470447, 0.5263687 , 0.47335103, 0.55860984, 0.77220154,\n",
       "       0.7933213 , 0.60702455, 0.74662757, 0.6536467 , 0.578462  ,\n",
       "       0.7993757 , 0.7771957 , 0.6504326 , 0.67468035, 0.56074274,\n",
       "       0.62784564, 0.28737378, 0.57513136, 0.7455438 , 0.5522433 ,\n",
       "       0.53921115, 0.58446795, 0.36586118, 0.599217  , 0.8297953 ],\n",
       "      dtype=float32)"
      ]
     },
     "execution_count": 7,
     "metadata": {},
     "output_type": "execute_result"
    }
   ],
   "source": [
    "nnc.predict(xtest, model)"
   ]
  },
  {
   "cell_type": "code",
   "execution_count": 8,
   "metadata": {},
   "outputs": [
    {
     "data": {
      "text/plain": [
       "array([[1., 0.],\n",
       "       [0., 1.],\n",
       "       [0., 1.],\n",
       "       [1., 0.],\n",
       "       [0., 1.],\n",
       "       [0., 1.],\n",
       "       [0., 1.],\n",
       "       [1., 0.],\n",
       "       [0., 1.],\n",
       "       [0., 1.],\n",
       "       [1., 0.],\n",
       "       [1., 0.],\n",
       "       [0., 1.],\n",
       "       [0., 1.],\n",
       "       [1., 0.],\n",
       "       [1., 0.],\n",
       "       [0., 1.],\n",
       "       [0., 1.],\n",
       "       [1., 0.],\n",
       "       [1., 0.],\n",
       "       [1., 0.],\n",
       "       [1., 0.],\n",
       "       [0., 1.],\n",
       "       [0., 1.],\n",
       "       [1., 0.],\n",
       "       [0., 1.],\n",
       "       [1., 0.],\n",
       "       [1., 0.],\n",
       "       [1., 0.],\n",
       "       [0., 1.],\n",
       "       [1., 0.],\n",
       "       [1., 0.],\n",
       "       [1., 0.],\n",
       "       [1., 0.],\n",
       "       [0., 1.],\n",
       "       [1., 0.],\n",
       "       [0., 1.],\n",
       "       [0., 1.],\n",
       "       [1., 0.],\n",
       "       [1., 0.],\n",
       "       [0., 1.],\n",
       "       [0., 1.],\n",
       "       [0., 1.],\n",
       "       [0., 1.],\n",
       "       [1., 0.],\n",
       "       [0., 1.],\n",
       "       [0., 1.],\n",
       "       [1., 0.],\n",
       "       [0., 1.],\n",
       "       [1., 0.],\n",
       "       [0., 1.],\n",
       "       [1., 0.],\n",
       "       [0., 1.],\n",
       "       [1., 0.],\n",
       "       [0., 1.],\n",
       "       [0., 1.],\n",
       "       [0., 1.],\n",
       "       [0., 1.],\n",
       "       [1., 0.],\n",
       "       [0., 1.],\n",
       "       [1., 0.],\n",
       "       [1., 0.],\n",
       "       [0., 1.],\n",
       "       [0., 1.],\n",
       "       [0., 1.],\n",
       "       [0., 1.],\n",
       "       [0., 1.],\n",
       "       [1., 0.],\n",
       "       [1., 0.],\n",
       "       [0., 1.],\n",
       "       [0., 1.],\n",
       "       [1., 0.],\n",
       "       [0., 1.],\n",
       "       [1., 0.],\n",
       "       [0., 1.],\n",
       "       [0., 1.],\n",
       "       [1., 0.],\n",
       "       [0., 1.],\n",
       "       [1., 0.],\n",
       "       [1., 0.],\n",
       "       [0., 1.],\n",
       "       [1., 0.],\n",
       "       [1., 0.],\n",
       "       [0., 1.],\n",
       "       [0., 1.],\n",
       "       [1., 0.],\n",
       "       [1., 0.],\n",
       "       [0., 1.],\n",
       "       [0., 1.],\n",
       "       [1., 0.],\n",
       "       [1., 0.],\n",
       "       [0., 1.],\n",
       "       [0., 1.],\n",
       "       [0., 1.],\n",
       "       [1., 0.],\n",
       "       [0., 1.],\n",
       "       [0., 1.],\n",
       "       [1., 0.],\n",
       "       [0., 1.],\n",
       "       [0., 1.],\n",
       "       [0., 1.],\n",
       "       [1., 0.],\n",
       "       [0., 1.],\n",
       "       [0., 1.],\n",
       "       [0., 1.],\n",
       "       [0., 1.],\n",
       "       [0., 1.],\n",
       "       [0., 1.],\n",
       "       [1., 0.],\n",
       "       [0., 1.],\n",
       "       [0., 1.],\n",
       "       [1., 0.],\n",
       "       [1., 0.],\n",
       "       [1., 0.],\n",
       "       [0., 1.],\n",
       "       [1., 0.],\n",
       "       [0., 1.],\n",
       "       [1., 0.],\n",
       "       [0., 1.],\n",
       "       [0., 1.]])"
      ]
     },
     "execution_count": 8,
     "metadata": {},
     "output_type": "execute_result"
    }
   ],
   "source": [
    "ytest"
   ]
  },
  {
   "cell_type": "code",
   "execution_count": null,
   "metadata": {},
   "outputs": [],
   "source": []
  }
 ],
 "metadata": {
  "kernelspec": {
   "display_name": "Python 3",
   "language": "python",
   "name": "python3"
  },
  "language_info": {
   "codemirror_mode": {
    "name": "ipython",
    "version": 3
   },
   "file_extension": ".py",
   "mimetype": "text/x-python",
   "name": "python",
   "nbconvert_exporter": "python",
   "pygments_lexer": "ipython3",
   "version": "3.8.5"
  }
 },
 "nbformat": 4,
 "nbformat_minor": 5
}
