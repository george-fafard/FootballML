{
 "cells": [
  {
   "cell_type": "code",
   "execution_count": null,
   "id": "74b73c6d",
   "metadata": {},
   "outputs": [],
   "source": [
    "# Results for Ensemble Classifier"
   ]
  },
  {
   "cell_type": "code",
   "execution_count": 1,
   "id": "d6c6b000",
   "metadata": {},
   "outputs": [
    {
     "name": "stdout",
     "output_type": "stream",
     "text": [
      "Test importing ensemble classifier stuff\n"
     ]
    }
   ],
   "source": [
    "from FootballML.Classifiers.Ensemble.ensemble_classifier import test\n",
    "\n",
    "test()"
   ]
  }
 ],
 "metadata": {
  "kernelspec": {
   "display_name": "Python 3",
   "language": "python",
   "name": "python3"
  },
  "language_info": {
   "codemirror_mode": {
    "name": "ipython",
    "version": 3
   },
   "file_extension": ".py",
   "mimetype": "text/x-python",
   "name": "python",
   "nbconvert_exporter": "python",
   "pygments_lexer": "ipython3",
   "version": "3.9.5"
  }
 },
 "nbformat": 4,
 "nbformat_minor": 5
}
